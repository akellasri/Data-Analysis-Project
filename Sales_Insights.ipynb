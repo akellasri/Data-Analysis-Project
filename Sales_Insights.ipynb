{
 "cells": [
  {
   "cell_type": "markdown",
   "id": "16251796",
   "metadata": {},
   "source": [
    "### Sales Insights With Power BI"
   ]
  },
  {
   "cell_type": "markdown",
   "id": "d438ea07",
   "metadata": {},
   "source": [
    "#### About the Data\n",
    "\n"
   ]
  },
  {
   "cell_type": "markdown",
   "id": "f6b1c80a",
   "metadata": {},
   "source": [
    "* Downloaded dataset from the webiste WWW.Kaggle.com\n",
    "* Five different datasets\n",
    "* Like sales/marketing and customers data.\n",
    "* Includes many products and two different product types (Own Brand & Distribution).\n",
    "* Also, includes many different customers/clients like nomad stores, electric stores, surge stores etc..\n",
    "\n",
    "**Objective:** \n",
    "* To analyze the data and discover insights from the provided data which helps in making data-driven decisions.\n",
    "* Like finding the weakest areas that needs to be focused (location wise, zone wise etc..), finding total revenue and total profit, and forecasting which helps to take decisions for future budget planning."
   ]
  },
  {
   "cell_type": "code",
   "execution_count": 1,
   "id": "7dc6cdc2",
   "metadata": {},
   "outputs": [],
   "source": [
    "# importing libraries\n",
    "import pandas as pd\n",
    "import numpy as np\n",
    "import matplotlib.pyplot as plt\n",
    "import seaborn as sns\n",
    "\n",
    "%matplotlib inline"
   ]
  },
  {
   "cell_type": "code",
   "execution_count": 2,
   "id": "828dbc75",
   "metadata": {},
   "outputs": [],
   "source": [
    "# round to 2 decimals\n",
    "pd.options.display.float_format = \"{:.2f}\".format"
   ]
  },
  {
   "cell_type": "markdown",
   "id": "4b79b9d9",
   "metadata": {},
   "source": [
    "### Load all the data"
   ]
  },
  {
   "cell_type": "code",
   "execution_count": 3,
   "id": "b9da722a",
   "metadata": {},
   "outputs": [],
   "source": [
    "transactions = pd.read_csv(\"transactions.csv\")"
   ]
  },
  {
   "cell_type": "code",
   "execution_count": 4,
   "id": "9df23925",
   "metadata": {},
   "outputs": [],
   "source": [
    "products = pd.read_csv(\"products.csv\")"
   ]
  },
  {
   "cell_type": "code",
   "execution_count": 5,
   "id": "10a64ed9",
   "metadata": {},
   "outputs": [],
   "source": [
    "markets = pd.read_csv(\"markets.csv\")"
   ]
  },
  {
   "cell_type": "code",
   "execution_count": 6,
   "id": "922d591a",
   "metadata": {},
   "outputs": [],
   "source": [
    "customers = pd.read_csv(\"customers.csv\")"
   ]
  },
  {
   "cell_type": "code",
   "execution_count": 7,
   "id": "c65d68bf",
   "metadata": {},
   "outputs": [],
   "source": [
    "date = pd.read_csv(\"date.csv\")"
   ]
  },
  {
   "cell_type": "markdown",
   "id": "d68f3b65",
   "metadata": {},
   "source": [
    "### Transactions"
   ]
  },
  {
   "cell_type": "code",
   "execution_count": 8,
   "id": "54be694b",
   "metadata": {},
   "outputs": [
    {
     "data": {
      "text/html": [
       "<div>\n",
       "<style scoped>\n",
       "    .dataframe tbody tr th:only-of-type {\n",
       "        vertical-align: middle;\n",
       "    }\n",
       "\n",
       "    .dataframe tbody tr th {\n",
       "        vertical-align: top;\n",
       "    }\n",
       "\n",
       "    .dataframe thead th {\n",
       "        text-align: right;\n",
       "    }\n",
       "</style>\n",
       "<table border=\"1\" class=\"dataframe\">\n",
       "  <thead>\n",
       "    <tr style=\"text-align: right;\">\n",
       "      <th></th>\n",
       "      <th>product_code</th>\n",
       "      <th>customer_code</th>\n",
       "      <th>market_code</th>\n",
       "      <th>order_date</th>\n",
       "      <th>sales_qty</th>\n",
       "      <th>sales_amount</th>\n",
       "      <th>currency</th>\n",
       "    </tr>\n",
       "  </thead>\n",
       "  <tbody>\n",
       "    <tr>\n",
       "      <th>0</th>\n",
       "      <td>Prod001</td>\n",
       "      <td>Cus001</td>\n",
       "      <td>Mark001</td>\n",
       "      <td>2017-10-10</td>\n",
       "      <td>100</td>\n",
       "      <td>41241.00</td>\n",
       "      <td>INR</td>\n",
       "    </tr>\n",
       "    <tr>\n",
       "      <th>1</th>\n",
       "      <td>Prod001</td>\n",
       "      <td>Cus002</td>\n",
       "      <td>Mark002</td>\n",
       "      <td>2018-05-08</td>\n",
       "      <td>3</td>\n",
       "      <td>-1.00</td>\n",
       "      <td>INR</td>\n",
       "    </tr>\n",
       "    <tr>\n",
       "      <th>2</th>\n",
       "      <td>Prod002</td>\n",
       "      <td>Cus003</td>\n",
       "      <td>Mark003</td>\n",
       "      <td>2018-04-06</td>\n",
       "      <td>1</td>\n",
       "      <td>875.00</td>\n",
       "      <td>INR</td>\n",
       "    </tr>\n",
       "    <tr>\n",
       "      <th>3</th>\n",
       "      <td>Prod002</td>\n",
       "      <td>Cus003</td>\n",
       "      <td>Mark003</td>\n",
       "      <td>2018-04-11</td>\n",
       "      <td>1</td>\n",
       "      <td>583.00</td>\n",
       "      <td>INR</td>\n",
       "    </tr>\n",
       "    <tr>\n",
       "      <th>4</th>\n",
       "      <td>Prod002</td>\n",
       "      <td>Cus004</td>\n",
       "      <td>Mark003</td>\n",
       "      <td>2018-06-18</td>\n",
       "      <td>6</td>\n",
       "      <td>7176.00</td>\n",
       "      <td>INR</td>\n",
       "    </tr>\n",
       "  </tbody>\n",
       "</table>\n",
       "</div>"
      ],
      "text/plain": [
       "  product_code customer_code market_code  order_date  sales_qty  sales_amount  \\\n",
       "0      Prod001        Cus001     Mark001  2017-10-10        100      41241.00   \n",
       "1      Prod001        Cus002     Mark002  2018-05-08          3         -1.00   \n",
       "2      Prod002        Cus003     Mark003  2018-04-06          1        875.00   \n",
       "3      Prod002        Cus003     Mark003  2018-04-11          1        583.00   \n",
       "4      Prod002        Cus004     Mark003  2018-06-18          6       7176.00   \n",
       "\n",
       "  currency  \n",
       "0      INR  \n",
       "1      INR  \n",
       "2      INR  \n",
       "3      INR  \n",
       "4      INR  "
      ]
     },
     "execution_count": 8,
     "metadata": {},
     "output_type": "execute_result"
    }
   ],
   "source": [
    "transactions.head()"
   ]
  },
  {
   "cell_type": "code",
   "execution_count": 9,
   "id": "e0e4b14a",
   "metadata": {},
   "outputs": [
    {
     "data": {
      "text/plain": [
       "product_code      object\n",
       "customer_code     object\n",
       "market_code       object\n",
       "order_date        object\n",
       "sales_qty          int64\n",
       "sales_amount     float64\n",
       "currency          object\n",
       "dtype: object"
      ]
     },
     "execution_count": 9,
     "metadata": {},
     "output_type": "execute_result"
    }
   ],
   "source": [
    "# check the data types\n",
    "transactions.dtypes"
   ]
  },
  {
   "cell_type": "code",
   "execution_count": 10,
   "id": "f03c2741",
   "metadata": {},
   "outputs": [
    {
     "data": {
      "text/plain": [
       "(150283, 7)"
      ]
     },
     "execution_count": 10,
     "metadata": {},
     "output_type": "execute_result"
    }
   ],
   "source": [
    "# shape() function to check rows and columns\n",
    "transactions.shape"
   ]
  },
  {
   "cell_type": "code",
   "execution_count": 11,
   "id": "be3c99db",
   "metadata": {},
   "outputs": [
    {
     "data": {
      "text/plain": [
       "product_code     0\n",
       "customer_code    0\n",
       "market_code      0\n",
       "order_date       0\n",
       "sales_qty        0\n",
       "sales_amount     0\n",
       "currency         0\n",
       "dtype: int64"
      ]
     },
     "execution_count": 11,
     "metadata": {},
     "output_type": "execute_result"
    }
   ],
   "source": [
    "# check the null values\n",
    "transactions.isnull().sum()"
   ]
  },
  {
   "cell_type": "code",
   "execution_count": 12,
   "id": "c36ecff5",
   "metadata": {},
   "outputs": [
    {
     "data": {
      "text/html": [
       "<div>\n",
       "<style scoped>\n",
       "    .dataframe tbody tr th:only-of-type {\n",
       "        vertical-align: middle;\n",
       "    }\n",
       "\n",
       "    .dataframe tbody tr th {\n",
       "        vertical-align: top;\n",
       "    }\n",
       "\n",
       "    .dataframe thead th {\n",
       "        text-align: right;\n",
       "    }\n",
       "</style>\n",
       "<table border=\"1\" class=\"dataframe\">\n",
       "  <thead>\n",
       "    <tr style=\"text-align: right;\">\n",
       "      <th></th>\n",
       "      <th>product_code</th>\n",
       "      <th>customer_code</th>\n",
       "      <th>market_code</th>\n",
       "      <th>order_date</th>\n",
       "      <th>sales_qty</th>\n",
       "      <th>sales_amount</th>\n",
       "      <th>currency</th>\n",
       "    </tr>\n",
       "  </thead>\n",
       "  <tbody>\n",
       "    <tr>\n",
       "      <th>1</th>\n",
       "      <td>Prod001</td>\n",
       "      <td>Cus002</td>\n",
       "      <td>Mark002</td>\n",
       "      <td>2018-05-08</td>\n",
       "      <td>3</td>\n",
       "      <td>-1.00</td>\n",
       "      <td>INR</td>\n",
       "    </tr>\n",
       "    <tr>\n",
       "      <th>159</th>\n",
       "      <td>Prod010</td>\n",
       "      <td>Cus015</td>\n",
       "      <td>Mark006</td>\n",
       "      <td>2018-05-26</td>\n",
       "      <td>1</td>\n",
       "      <td>0.00</td>\n",
       "      <td>INR</td>\n",
       "    </tr>\n",
       "    <tr>\n",
       "      <th>196</th>\n",
       "      <td>Prod010</td>\n",
       "      <td>Cus003</td>\n",
       "      <td>Mark003</td>\n",
       "      <td>2019-04-30</td>\n",
       "      <td>1</td>\n",
       "      <td>0.00</td>\n",
       "      <td>INR</td>\n",
       "    </tr>\n",
       "    <tr>\n",
       "      <th>239</th>\n",
       "      <td>Prod011</td>\n",
       "      <td>Cus018</td>\n",
       "      <td>Mark002</td>\n",
       "      <td>2018-12-28</td>\n",
       "      <td>1</td>\n",
       "      <td>0.00</td>\n",
       "      <td>INR</td>\n",
       "    </tr>\n",
       "    <tr>\n",
       "      <th>282</th>\n",
       "      <td>Prod001</td>\n",
       "      <td>Cus002</td>\n",
       "      <td>Mark002</td>\n",
       "      <td>2018-05-08</td>\n",
       "      <td>3</td>\n",
       "      <td>-1.00</td>\n",
       "      <td>INR</td>\n",
       "    </tr>\n",
       "  </tbody>\n",
       "</table>\n",
       "</div>"
      ],
      "text/plain": [
       "    product_code customer_code market_code  order_date  sales_qty  \\\n",
       "1        Prod001        Cus002     Mark002  2018-05-08          3   \n",
       "159      Prod010        Cus015     Mark006  2018-05-26          1   \n",
       "196      Prod010        Cus003     Mark003  2019-04-30          1   \n",
       "239      Prod011        Cus018     Mark002  2018-12-28          1   \n",
       "282      Prod001        Cus002     Mark002  2018-05-08          3   \n",
       "\n",
       "     sales_amount currency  \n",
       "1           -1.00      INR  \n",
       "159          0.00      INR  \n",
       "196          0.00      INR  \n",
       "239          0.00      INR  \n",
       "282         -1.00      INR  "
      ]
     },
     "execution_count": 12,
     "metadata": {},
     "output_type": "execute_result"
    }
   ],
   "source": [
    "# check the sales_amount less than '0'\n",
    "transactions[transactions[\"sales_amount\"] <= 0].head()"
   ]
  },
  {
   "cell_type": "code",
   "execution_count": 13,
   "id": "0830d8a0",
   "metadata": {},
   "outputs": [
    {
     "data": {
      "text/plain": [
       "1611"
      ]
     },
     "execution_count": 13,
     "metadata": {},
     "output_type": "execute_result"
    }
   ],
   "source": [
    "# check the length of the rows\n",
    "len(transactions[transactions[\"sales_amount\"] <= 0])"
   ]
  },
  {
   "cell_type": "code",
   "execution_count": 14,
   "id": "e9f2678a",
   "metadata": {},
   "outputs": [],
   "source": [
    "# drop the rows that are less than or equal to '0'\n",
    "transactions.drop(transactions[transactions[\"sales_amount\"] <= 0].index, inplace=True)"
   ]
  },
  {
   "cell_type": "code",
   "execution_count": 15,
   "id": "66a6768c",
   "metadata": {},
   "outputs": [
    {
     "data": {
      "text/plain": [
       "(148672, 7)"
      ]
     },
     "execution_count": 15,
     "metadata": {},
     "output_type": "execute_result"
    }
   ],
   "source": [
    "transactions.shape"
   ]
  },
  {
   "cell_type": "code",
   "execution_count": 16,
   "id": "9978c5f2",
   "metadata": {},
   "outputs": [
    {
     "data": {
      "text/plain": [
       "array(['INR', 'USD'], dtype=object)"
      ]
     },
     "execution_count": 16,
     "metadata": {},
     "output_type": "execute_result"
    }
   ],
   "source": [
    "# convert currency from USD to INR\n",
    "transactions[\"currency\"].unique()"
   ]
  },
  {
   "cell_type": "code",
   "execution_count": 17,
   "id": "e405357b",
   "metadata": {},
   "outputs": [
    {
     "data": {
      "text/html": [
       "<div>\n",
       "<style scoped>\n",
       "    .dataframe tbody tr th:only-of-type {\n",
       "        vertical-align: middle;\n",
       "    }\n",
       "\n",
       "    .dataframe tbody tr th {\n",
       "        vertical-align: top;\n",
       "    }\n",
       "\n",
       "    .dataframe thead th {\n",
       "        text-align: right;\n",
       "    }\n",
       "</style>\n",
       "<table border=\"1\" class=\"dataframe\">\n",
       "  <thead>\n",
       "    <tr style=\"text-align: right;\">\n",
       "      <th></th>\n",
       "      <th>product_code</th>\n",
       "      <th>customer_code</th>\n",
       "      <th>market_code</th>\n",
       "      <th>order_date</th>\n",
       "      <th>sales_qty</th>\n",
       "      <th>sales_amount</th>\n",
       "      <th>currency</th>\n",
       "    </tr>\n",
       "  </thead>\n",
       "  <tbody>\n",
       "    <tr>\n",
       "      <th>5</th>\n",
       "      <td>Prod003</td>\n",
       "      <td>Cus005</td>\n",
       "      <td>Mark004</td>\n",
       "      <td>2017-11-20</td>\n",
       "      <td>59</td>\n",
       "      <td>500.00</td>\n",
       "      <td>USD</td>\n",
       "    </tr>\n",
       "    <tr>\n",
       "      <th>6</th>\n",
       "      <td>Prod003</td>\n",
       "      <td>Cus005</td>\n",
       "      <td>Mark004</td>\n",
       "      <td>2017-11-22</td>\n",
       "      <td>36</td>\n",
       "      <td>250.00</td>\n",
       "      <td>USD</td>\n",
       "    </tr>\n",
       "    <tr>\n",
       "      <th>286</th>\n",
       "      <td>Prod003</td>\n",
       "      <td>Cus005</td>\n",
       "      <td>Mark004</td>\n",
       "      <td>2017-11-20</td>\n",
       "      <td>59</td>\n",
       "      <td>500.00</td>\n",
       "      <td>USD</td>\n",
       "    </tr>\n",
       "    <tr>\n",
       "      <th>287</th>\n",
       "      <td>Prod003</td>\n",
       "      <td>Cus005</td>\n",
       "      <td>Mark004</td>\n",
       "      <td>2017-11-22</td>\n",
       "      <td>36</td>\n",
       "      <td>250.00</td>\n",
       "      <td>USD</td>\n",
       "    </tr>\n",
       "  </tbody>\n",
       "</table>\n",
       "</div>"
      ],
      "text/plain": [
       "    product_code customer_code market_code  order_date  sales_qty  \\\n",
       "5        Prod003        Cus005     Mark004  2017-11-20         59   \n",
       "6        Prod003        Cus005     Mark004  2017-11-22         36   \n",
       "286      Prod003        Cus005     Mark004  2017-11-20         59   \n",
       "287      Prod003        Cus005     Mark004  2017-11-22         36   \n",
       "\n",
       "     sales_amount currency  \n",
       "5          500.00      USD  \n",
       "6          250.00      USD  \n",
       "286        500.00      USD  \n",
       "287        250.00      USD  "
      ]
     },
     "execution_count": 17,
     "metadata": {},
     "output_type": "execute_result"
    }
   ],
   "source": [
    "# convert to INR\n",
    "transactions[transactions[\"currency\"] == \"USD\"]"
   ]
  },
  {
   "cell_type": "code",
   "execution_count": 18,
   "id": "be1f9c9d",
   "metadata": {},
   "outputs": [
    {
     "data": {
      "text/plain": [
       "5     500.00\n",
       "6     250.00\n",
       "286   500.00\n",
       "287   250.00\n",
       "Name: sales_amount, dtype: float64"
      ]
     },
     "execution_count": 18,
     "metadata": {},
     "output_type": "execute_result"
    }
   ],
   "source": [
    "transactions[transactions[\"currency\"] == \"USD\"][\"sales_amount\"]"
   ]
  },
  {
   "cell_type": "code",
   "execution_count": 19,
   "id": "fdca793f",
   "metadata": {},
   "outputs": [
    {
     "data": {
      "text/plain": [
       "Int64Index([5, 6, 286, 287], dtype='int64')"
      ]
     },
     "execution_count": 19,
     "metadata": {},
     "output_type": "execute_result"
    }
   ],
   "source": [
    "val = transactions[transactions[\"currency\"] == \"USD\"].index\n",
    "val"
   ]
  },
  {
   "cell_type": "code",
   "execution_count": 20,
   "id": "82be0a39",
   "metadata": {},
   "outputs": [],
   "source": [
    "for x in val:   \n",
    "    transactions.at[x, \"sales_amount\"] = transactions.at[x, \"sales_amount\"]*75\n",
    "    transactions.at[x, \"currency\"] = \"INR\""
   ]
  },
  {
   "cell_type": "code",
   "execution_count": 21,
   "id": "6b888bb8",
   "metadata": {},
   "outputs": [
    {
     "data": {
      "text/html": [
       "<div>\n",
       "<style scoped>\n",
       "    .dataframe tbody tr th:only-of-type {\n",
       "        vertical-align: middle;\n",
       "    }\n",
       "\n",
       "    .dataframe tbody tr th {\n",
       "        vertical-align: top;\n",
       "    }\n",
       "\n",
       "    .dataframe thead th {\n",
       "        text-align: right;\n",
       "    }\n",
       "</style>\n",
       "<table border=\"1\" class=\"dataframe\">\n",
       "  <thead>\n",
       "    <tr style=\"text-align: right;\">\n",
       "      <th></th>\n",
       "      <th>product_code</th>\n",
       "      <th>customer_code</th>\n",
       "      <th>market_code</th>\n",
       "      <th>order_date</th>\n",
       "      <th>sales_qty</th>\n",
       "      <th>sales_amount</th>\n",
       "      <th>currency</th>\n",
       "    </tr>\n",
       "  </thead>\n",
       "  <tbody>\n",
       "    <tr>\n",
       "      <th>5</th>\n",
       "      <td>Prod003</td>\n",
       "      <td>Cus005</td>\n",
       "      <td>Mark004</td>\n",
       "      <td>2017-11-20</td>\n",
       "      <td>59</td>\n",
       "      <td>37500.00</td>\n",
       "      <td>INR</td>\n",
       "    </tr>\n",
       "    <tr>\n",
       "      <th>6</th>\n",
       "      <td>Prod003</td>\n",
       "      <td>Cus005</td>\n",
       "      <td>Mark004</td>\n",
       "      <td>2017-11-22</td>\n",
       "      <td>36</td>\n",
       "      <td>18750.00</td>\n",
       "      <td>INR</td>\n",
       "    </tr>\n",
       "    <tr>\n",
       "      <th>286</th>\n",
       "      <td>Prod003</td>\n",
       "      <td>Cus005</td>\n",
       "      <td>Mark004</td>\n",
       "      <td>2017-11-20</td>\n",
       "      <td>59</td>\n",
       "      <td>37500.00</td>\n",
       "      <td>INR</td>\n",
       "    </tr>\n",
       "    <tr>\n",
       "      <th>287</th>\n",
       "      <td>Prod003</td>\n",
       "      <td>Cus005</td>\n",
       "      <td>Mark004</td>\n",
       "      <td>2017-11-22</td>\n",
       "      <td>36</td>\n",
       "      <td>18750.00</td>\n",
       "      <td>INR</td>\n",
       "    </tr>\n",
       "  </tbody>\n",
       "</table>\n",
       "</div>"
      ],
      "text/plain": [
       "    product_code customer_code market_code  order_date  sales_qty  \\\n",
       "5        Prod003        Cus005     Mark004  2017-11-20         59   \n",
       "6        Prod003        Cus005     Mark004  2017-11-22         36   \n",
       "286      Prod003        Cus005     Mark004  2017-11-20         59   \n",
       "287      Prod003        Cus005     Mark004  2017-11-22         36   \n",
       "\n",
       "     sales_amount currency  \n",
       "5        37500.00      INR  \n",
       "6        18750.00      INR  \n",
       "286      37500.00      INR  \n",
       "287      18750.00      INR  "
      ]
     },
     "execution_count": 21,
     "metadata": {},
     "output_type": "execute_result"
    }
   ],
   "source": [
    "transactions.loc[val]"
   ]
  },
  {
   "cell_type": "code",
   "execution_count": 22,
   "id": "9362cb83",
   "metadata": {},
   "outputs": [
    {
     "data": {
      "text/html": [
       "<div>\n",
       "<style scoped>\n",
       "    .dataframe tbody tr th:only-of-type {\n",
       "        vertical-align: middle;\n",
       "    }\n",
       "\n",
       "    .dataframe tbody tr th {\n",
       "        vertical-align: top;\n",
       "    }\n",
       "\n",
       "    .dataframe thead th {\n",
       "        text-align: right;\n",
       "    }\n",
       "</style>\n",
       "<table border=\"1\" class=\"dataframe\">\n",
       "  <thead>\n",
       "    <tr style=\"text-align: right;\">\n",
       "      <th></th>\n",
       "      <th>product_code</th>\n",
       "      <th>customer_code</th>\n",
       "      <th>market_code</th>\n",
       "      <th>order_date</th>\n",
       "      <th>sales_qty</th>\n",
       "      <th>sales_amount</th>\n",
       "      <th>currency</th>\n",
       "      <th>product_price</th>\n",
       "    </tr>\n",
       "  </thead>\n",
       "  <tbody>\n",
       "    <tr>\n",
       "      <th>0</th>\n",
       "      <td>Prod001</td>\n",
       "      <td>Cus001</td>\n",
       "      <td>Mark001</td>\n",
       "      <td>2017-10-10</td>\n",
       "      <td>100</td>\n",
       "      <td>41241.00</td>\n",
       "      <td>INR</td>\n",
       "      <td>412.41</td>\n",
       "    </tr>\n",
       "    <tr>\n",
       "      <th>2</th>\n",
       "      <td>Prod002</td>\n",
       "      <td>Cus003</td>\n",
       "      <td>Mark003</td>\n",
       "      <td>2018-04-06</td>\n",
       "      <td>1</td>\n",
       "      <td>875.00</td>\n",
       "      <td>INR</td>\n",
       "      <td>875.00</td>\n",
       "    </tr>\n",
       "    <tr>\n",
       "      <th>3</th>\n",
       "      <td>Prod002</td>\n",
       "      <td>Cus003</td>\n",
       "      <td>Mark003</td>\n",
       "      <td>2018-04-11</td>\n",
       "      <td>1</td>\n",
       "      <td>583.00</td>\n",
       "      <td>INR</td>\n",
       "      <td>583.00</td>\n",
       "    </tr>\n",
       "    <tr>\n",
       "      <th>4</th>\n",
       "      <td>Prod002</td>\n",
       "      <td>Cus004</td>\n",
       "      <td>Mark003</td>\n",
       "      <td>2018-06-18</td>\n",
       "      <td>6</td>\n",
       "      <td>7176.00</td>\n",
       "      <td>INR</td>\n",
       "      <td>1196.00</td>\n",
       "    </tr>\n",
       "    <tr>\n",
       "      <th>5</th>\n",
       "      <td>Prod003</td>\n",
       "      <td>Cus005</td>\n",
       "      <td>Mark004</td>\n",
       "      <td>2017-11-20</td>\n",
       "      <td>59</td>\n",
       "      <td>37500.00</td>\n",
       "      <td>INR</td>\n",
       "      <td>635.59</td>\n",
       "    </tr>\n",
       "  </tbody>\n",
       "</table>\n",
       "</div>"
      ],
      "text/plain": [
       "  product_code customer_code market_code  order_date  sales_qty  sales_amount  \\\n",
       "0      Prod001        Cus001     Mark001  2017-10-10        100      41241.00   \n",
       "2      Prod002        Cus003     Mark003  2018-04-06          1        875.00   \n",
       "3      Prod002        Cus003     Mark003  2018-04-11          1        583.00   \n",
       "4      Prod002        Cus004     Mark003  2018-06-18          6       7176.00   \n",
       "5      Prod003        Cus005     Mark004  2017-11-20         59      37500.00   \n",
       "\n",
       "  currency  product_price  \n",
       "0      INR         412.41  \n",
       "2      INR         875.00  \n",
       "3      INR         583.00  \n",
       "4      INR        1196.00  \n",
       "5      INR         635.59  "
      ]
     },
     "execution_count": 22,
     "metadata": {},
     "output_type": "execute_result"
    }
   ],
   "source": [
    "# Adding column Product Price\n",
    "\n",
    "transactions[\"product_price\"] = transactions[\"sales_amount\"] / transactions[\"sales_qty\"]\n",
    "transactions.head()"
   ]
  },
  {
   "cell_type": "code",
   "execution_count": 23,
   "id": "3b2d8d59",
   "metadata": {},
   "outputs": [],
   "source": [
    "# caculate profit percentage using product price\n",
    "\n",
    "def profit_per(y):\n",
    "    profit = 8\n",
    "    \n",
    "    if y > 4000:\n",
    "        profit = 23\n",
    "    elif y > 3000:\n",
    "        profit = 19\n",
    "    elif y > 2000:\n",
    "        profit = 17\n",
    "    elif y > 1000:\n",
    "        profit = 15\n",
    "    elif y > 500:\n",
    "        profit = 13\n",
    "    elif y > 100:\n",
    "        profit = 11\n",
    "    else:\n",
    "        profit = 8\n",
    "        \n",
    "    return profit    "
   ]
  },
  {
   "cell_type": "code",
   "execution_count": 24,
   "id": "daf7795c",
   "metadata": {},
   "outputs": [],
   "source": [
    "transactions[\"profit_percentage\"] = transactions[\"product_price\"].apply(profit_per)"
   ]
  },
  {
   "cell_type": "code",
   "execution_count": 25,
   "id": "6e9eb876",
   "metadata": {},
   "outputs": [
    {
     "data": {
      "text/html": [
       "<div>\n",
       "<style scoped>\n",
       "    .dataframe tbody tr th:only-of-type {\n",
       "        vertical-align: middle;\n",
       "    }\n",
       "\n",
       "    .dataframe tbody tr th {\n",
       "        vertical-align: top;\n",
       "    }\n",
       "\n",
       "    .dataframe thead th {\n",
       "        text-align: right;\n",
       "    }\n",
       "</style>\n",
       "<table border=\"1\" class=\"dataframe\">\n",
       "  <thead>\n",
       "    <tr style=\"text-align: right;\">\n",
       "      <th></th>\n",
       "      <th>product_code</th>\n",
       "      <th>customer_code</th>\n",
       "      <th>market_code</th>\n",
       "      <th>order_date</th>\n",
       "      <th>sales_qty</th>\n",
       "      <th>sales_amount</th>\n",
       "      <th>currency</th>\n",
       "      <th>product_price</th>\n",
       "      <th>profit_percentage</th>\n",
       "    </tr>\n",
       "  </thead>\n",
       "  <tbody>\n",
       "    <tr>\n",
       "      <th>0</th>\n",
       "      <td>Prod001</td>\n",
       "      <td>Cus001</td>\n",
       "      <td>Mark001</td>\n",
       "      <td>2017-10-10</td>\n",
       "      <td>100</td>\n",
       "      <td>41241.00</td>\n",
       "      <td>INR</td>\n",
       "      <td>412.41</td>\n",
       "      <td>11</td>\n",
       "    </tr>\n",
       "    <tr>\n",
       "      <th>2</th>\n",
       "      <td>Prod002</td>\n",
       "      <td>Cus003</td>\n",
       "      <td>Mark003</td>\n",
       "      <td>2018-04-06</td>\n",
       "      <td>1</td>\n",
       "      <td>875.00</td>\n",
       "      <td>INR</td>\n",
       "      <td>875.00</td>\n",
       "      <td>13</td>\n",
       "    </tr>\n",
       "    <tr>\n",
       "      <th>3</th>\n",
       "      <td>Prod002</td>\n",
       "      <td>Cus003</td>\n",
       "      <td>Mark003</td>\n",
       "      <td>2018-04-11</td>\n",
       "      <td>1</td>\n",
       "      <td>583.00</td>\n",
       "      <td>INR</td>\n",
       "      <td>583.00</td>\n",
       "      <td>13</td>\n",
       "    </tr>\n",
       "    <tr>\n",
       "      <th>4</th>\n",
       "      <td>Prod002</td>\n",
       "      <td>Cus004</td>\n",
       "      <td>Mark003</td>\n",
       "      <td>2018-06-18</td>\n",
       "      <td>6</td>\n",
       "      <td>7176.00</td>\n",
       "      <td>INR</td>\n",
       "      <td>1196.00</td>\n",
       "      <td>15</td>\n",
       "    </tr>\n",
       "    <tr>\n",
       "      <th>5</th>\n",
       "      <td>Prod003</td>\n",
       "      <td>Cus005</td>\n",
       "      <td>Mark004</td>\n",
       "      <td>2017-11-20</td>\n",
       "      <td>59</td>\n",
       "      <td>37500.00</td>\n",
       "      <td>INR</td>\n",
       "      <td>635.59</td>\n",
       "      <td>13</td>\n",
       "    </tr>\n",
       "  </tbody>\n",
       "</table>\n",
       "</div>"
      ],
      "text/plain": [
       "  product_code customer_code market_code  order_date  sales_qty  sales_amount  \\\n",
       "0      Prod001        Cus001     Mark001  2017-10-10        100      41241.00   \n",
       "2      Prod002        Cus003     Mark003  2018-04-06          1        875.00   \n",
       "3      Prod002        Cus003     Mark003  2018-04-11          1        583.00   \n",
       "4      Prod002        Cus004     Mark003  2018-06-18          6       7176.00   \n",
       "5      Prod003        Cus005     Mark004  2017-11-20         59      37500.00   \n",
       "\n",
       "  currency  product_price  profit_percentage  \n",
       "0      INR         412.41                 11  \n",
       "2      INR         875.00                 13  \n",
       "3      INR         583.00                 13  \n",
       "4      INR        1196.00                 15  \n",
       "5      INR         635.59                 13  "
      ]
     },
     "execution_count": 25,
     "metadata": {},
     "output_type": "execute_result"
    }
   ],
   "source": [
    "transactions.head()"
   ]
  },
  {
   "cell_type": "code",
   "execution_count": 26,
   "id": "e2c29f1d",
   "metadata": {},
   "outputs": [],
   "source": [
    "# now calculate original price which refers to product price\n",
    "\n",
    "transactions[\"original_price\"] = (transactions[\"product_price\"] - (transactions[\"product_price\"]*(transactions[\"profit_percentage\"] / 100)))"
   ]
  },
  {
   "cell_type": "code",
   "execution_count": 27,
   "id": "415a89eb",
   "metadata": {},
   "outputs": [
    {
     "data": {
      "text/html": [
       "<div>\n",
       "<style scoped>\n",
       "    .dataframe tbody tr th:only-of-type {\n",
       "        vertical-align: middle;\n",
       "    }\n",
       "\n",
       "    .dataframe tbody tr th {\n",
       "        vertical-align: top;\n",
       "    }\n",
       "\n",
       "    .dataframe thead th {\n",
       "        text-align: right;\n",
       "    }\n",
       "</style>\n",
       "<table border=\"1\" class=\"dataframe\">\n",
       "  <thead>\n",
       "    <tr style=\"text-align: right;\">\n",
       "      <th></th>\n",
       "      <th>product_code</th>\n",
       "      <th>customer_code</th>\n",
       "      <th>market_code</th>\n",
       "      <th>order_date</th>\n",
       "      <th>sales_qty</th>\n",
       "      <th>sales_amount</th>\n",
       "      <th>currency</th>\n",
       "      <th>product_price</th>\n",
       "      <th>profit_percentage</th>\n",
       "      <th>original_price</th>\n",
       "    </tr>\n",
       "  </thead>\n",
       "  <tbody>\n",
       "    <tr>\n",
       "      <th>0</th>\n",
       "      <td>Prod001</td>\n",
       "      <td>Cus001</td>\n",
       "      <td>Mark001</td>\n",
       "      <td>2017-10-10</td>\n",
       "      <td>100</td>\n",
       "      <td>41241.00</td>\n",
       "      <td>INR</td>\n",
       "      <td>412.41</td>\n",
       "      <td>11</td>\n",
       "      <td>367.04</td>\n",
       "    </tr>\n",
       "    <tr>\n",
       "      <th>2</th>\n",
       "      <td>Prod002</td>\n",
       "      <td>Cus003</td>\n",
       "      <td>Mark003</td>\n",
       "      <td>2018-04-06</td>\n",
       "      <td>1</td>\n",
       "      <td>875.00</td>\n",
       "      <td>INR</td>\n",
       "      <td>875.00</td>\n",
       "      <td>13</td>\n",
       "      <td>761.25</td>\n",
       "    </tr>\n",
       "    <tr>\n",
       "      <th>3</th>\n",
       "      <td>Prod002</td>\n",
       "      <td>Cus003</td>\n",
       "      <td>Mark003</td>\n",
       "      <td>2018-04-11</td>\n",
       "      <td>1</td>\n",
       "      <td>583.00</td>\n",
       "      <td>INR</td>\n",
       "      <td>583.00</td>\n",
       "      <td>13</td>\n",
       "      <td>507.21</td>\n",
       "    </tr>\n",
       "    <tr>\n",
       "      <th>4</th>\n",
       "      <td>Prod002</td>\n",
       "      <td>Cus004</td>\n",
       "      <td>Mark003</td>\n",
       "      <td>2018-06-18</td>\n",
       "      <td>6</td>\n",
       "      <td>7176.00</td>\n",
       "      <td>INR</td>\n",
       "      <td>1196.00</td>\n",
       "      <td>15</td>\n",
       "      <td>1016.60</td>\n",
       "    </tr>\n",
       "    <tr>\n",
       "      <th>5</th>\n",
       "      <td>Prod003</td>\n",
       "      <td>Cus005</td>\n",
       "      <td>Mark004</td>\n",
       "      <td>2017-11-20</td>\n",
       "      <td>59</td>\n",
       "      <td>37500.00</td>\n",
       "      <td>INR</td>\n",
       "      <td>635.59</td>\n",
       "      <td>13</td>\n",
       "      <td>552.97</td>\n",
       "    </tr>\n",
       "  </tbody>\n",
       "</table>\n",
       "</div>"
      ],
      "text/plain": [
       "  product_code customer_code market_code  order_date  sales_qty  sales_amount  \\\n",
       "0      Prod001        Cus001     Mark001  2017-10-10        100      41241.00   \n",
       "2      Prod002        Cus003     Mark003  2018-04-06          1        875.00   \n",
       "3      Prod002        Cus003     Mark003  2018-04-11          1        583.00   \n",
       "4      Prod002        Cus004     Mark003  2018-06-18          6       7176.00   \n",
       "5      Prod003        Cus005     Mark004  2017-11-20         59      37500.00   \n",
       "\n",
       "  currency  product_price  profit_percentage  original_price  \n",
       "0      INR         412.41                 11          367.04  \n",
       "2      INR         875.00                 13          761.25  \n",
       "3      INR         583.00                 13          507.21  \n",
       "4      INR        1196.00                 15         1016.60  \n",
       "5      INR         635.59                 13          552.97  "
      ]
     },
     "execution_count": 27,
     "metadata": {},
     "output_type": "execute_result"
    }
   ],
   "source": [
    "transactions.head()"
   ]
  },
  {
   "cell_type": "code",
   "execution_count": 28,
   "id": "dc308ceb",
   "metadata": {},
   "outputs": [],
   "source": [
    "# To find 'profit' column\n",
    "\n",
    "transactions['profit'] = transactions['product_price']*(transactions['profit_percentage'] / 100)"
   ]
  },
  {
   "cell_type": "code",
   "execution_count": 29,
   "id": "9990ebf9",
   "metadata": {},
   "outputs": [
    {
     "data": {
      "text/html": [
       "<div>\n",
       "<style scoped>\n",
       "    .dataframe tbody tr th:only-of-type {\n",
       "        vertical-align: middle;\n",
       "    }\n",
       "\n",
       "    .dataframe tbody tr th {\n",
       "        vertical-align: top;\n",
       "    }\n",
       "\n",
       "    .dataframe thead th {\n",
       "        text-align: right;\n",
       "    }\n",
       "</style>\n",
       "<table border=\"1\" class=\"dataframe\">\n",
       "  <thead>\n",
       "    <tr style=\"text-align: right;\">\n",
       "      <th></th>\n",
       "      <th>product_code</th>\n",
       "      <th>customer_code</th>\n",
       "      <th>market_code</th>\n",
       "      <th>order_date</th>\n",
       "      <th>sales_qty</th>\n",
       "      <th>sales_amount</th>\n",
       "      <th>currency</th>\n",
       "      <th>product_price</th>\n",
       "      <th>profit_percentage</th>\n",
       "      <th>original_price</th>\n",
       "      <th>profit</th>\n",
       "    </tr>\n",
       "  </thead>\n",
       "  <tbody>\n",
       "    <tr>\n",
       "      <th>0</th>\n",
       "      <td>Prod001</td>\n",
       "      <td>Cus001</td>\n",
       "      <td>Mark001</td>\n",
       "      <td>2017-10-10</td>\n",
       "      <td>100</td>\n",
       "      <td>41241.00</td>\n",
       "      <td>INR</td>\n",
       "      <td>412.41</td>\n",
       "      <td>11</td>\n",
       "      <td>367.04</td>\n",
       "      <td>45.37</td>\n",
       "    </tr>\n",
       "    <tr>\n",
       "      <th>2</th>\n",
       "      <td>Prod002</td>\n",
       "      <td>Cus003</td>\n",
       "      <td>Mark003</td>\n",
       "      <td>2018-04-06</td>\n",
       "      <td>1</td>\n",
       "      <td>875.00</td>\n",
       "      <td>INR</td>\n",
       "      <td>875.00</td>\n",
       "      <td>13</td>\n",
       "      <td>761.25</td>\n",
       "      <td>113.75</td>\n",
       "    </tr>\n",
       "    <tr>\n",
       "      <th>3</th>\n",
       "      <td>Prod002</td>\n",
       "      <td>Cus003</td>\n",
       "      <td>Mark003</td>\n",
       "      <td>2018-04-11</td>\n",
       "      <td>1</td>\n",
       "      <td>583.00</td>\n",
       "      <td>INR</td>\n",
       "      <td>583.00</td>\n",
       "      <td>13</td>\n",
       "      <td>507.21</td>\n",
       "      <td>75.79</td>\n",
       "    </tr>\n",
       "    <tr>\n",
       "      <th>4</th>\n",
       "      <td>Prod002</td>\n",
       "      <td>Cus004</td>\n",
       "      <td>Mark003</td>\n",
       "      <td>2018-06-18</td>\n",
       "      <td>6</td>\n",
       "      <td>7176.00</td>\n",
       "      <td>INR</td>\n",
       "      <td>1196.00</td>\n",
       "      <td>15</td>\n",
       "      <td>1016.60</td>\n",
       "      <td>179.40</td>\n",
       "    </tr>\n",
       "    <tr>\n",
       "      <th>5</th>\n",
       "      <td>Prod003</td>\n",
       "      <td>Cus005</td>\n",
       "      <td>Mark004</td>\n",
       "      <td>2017-11-20</td>\n",
       "      <td>59</td>\n",
       "      <td>37500.00</td>\n",
       "      <td>INR</td>\n",
       "      <td>635.59</td>\n",
       "      <td>13</td>\n",
       "      <td>552.97</td>\n",
       "      <td>82.63</td>\n",
       "    </tr>\n",
       "  </tbody>\n",
       "</table>\n",
       "</div>"
      ],
      "text/plain": [
       "  product_code customer_code market_code  order_date  sales_qty  sales_amount  \\\n",
       "0      Prod001        Cus001     Mark001  2017-10-10        100      41241.00   \n",
       "2      Prod002        Cus003     Mark003  2018-04-06          1        875.00   \n",
       "3      Prod002        Cus003     Mark003  2018-04-11          1        583.00   \n",
       "4      Prod002        Cus004     Mark003  2018-06-18          6       7176.00   \n",
       "5      Prod003        Cus005     Mark004  2017-11-20         59      37500.00   \n",
       "\n",
       "  currency  product_price  profit_percentage  original_price  profit  \n",
       "0      INR         412.41                 11          367.04   45.37  \n",
       "2      INR         875.00                 13          761.25  113.75  \n",
       "3      INR         583.00                 13          507.21   75.79  \n",
       "4      INR        1196.00                 15         1016.60  179.40  \n",
       "5      INR         635.59                 13          552.97   82.63  "
      ]
     },
     "execution_count": 29,
     "metadata": {},
     "output_type": "execute_result"
    }
   ],
   "source": [
    "transactions.head()"
   ]
  },
  {
   "cell_type": "code",
   "execution_count": 30,
   "id": "037e1ac5",
   "metadata": {},
   "outputs": [],
   "source": [
    "# calculate total profit\n",
    "\n",
    "transactions[\"total_profit\"] = (transactions['sales_qty'])*(transactions['product_price']*(transactions['profit_percentage'] / 100))"
   ]
  },
  {
   "cell_type": "code",
   "execution_count": 31,
   "id": "34755839",
   "metadata": {},
   "outputs": [
    {
     "data": {
      "text/html": [
       "<div>\n",
       "<style scoped>\n",
       "    .dataframe tbody tr th:only-of-type {\n",
       "        vertical-align: middle;\n",
       "    }\n",
       "\n",
       "    .dataframe tbody tr th {\n",
       "        vertical-align: top;\n",
       "    }\n",
       "\n",
       "    .dataframe thead th {\n",
       "        text-align: right;\n",
       "    }\n",
       "</style>\n",
       "<table border=\"1\" class=\"dataframe\">\n",
       "  <thead>\n",
       "    <tr style=\"text-align: right;\">\n",
       "      <th></th>\n",
       "      <th>product_code</th>\n",
       "      <th>customer_code</th>\n",
       "      <th>market_code</th>\n",
       "      <th>order_date</th>\n",
       "      <th>sales_qty</th>\n",
       "      <th>sales_amount</th>\n",
       "      <th>currency</th>\n",
       "      <th>product_price</th>\n",
       "      <th>profit_percentage</th>\n",
       "      <th>original_price</th>\n",
       "      <th>profit</th>\n",
       "      <th>total_profit</th>\n",
       "    </tr>\n",
       "  </thead>\n",
       "  <tbody>\n",
       "    <tr>\n",
       "      <th>0</th>\n",
       "      <td>Prod001</td>\n",
       "      <td>Cus001</td>\n",
       "      <td>Mark001</td>\n",
       "      <td>2017-10-10</td>\n",
       "      <td>100</td>\n",
       "      <td>41241.00</td>\n",
       "      <td>INR</td>\n",
       "      <td>412.41</td>\n",
       "      <td>11</td>\n",
       "      <td>367.04</td>\n",
       "      <td>45.37</td>\n",
       "      <td>4536.51</td>\n",
       "    </tr>\n",
       "    <tr>\n",
       "      <th>2</th>\n",
       "      <td>Prod002</td>\n",
       "      <td>Cus003</td>\n",
       "      <td>Mark003</td>\n",
       "      <td>2018-04-06</td>\n",
       "      <td>1</td>\n",
       "      <td>875.00</td>\n",
       "      <td>INR</td>\n",
       "      <td>875.00</td>\n",
       "      <td>13</td>\n",
       "      <td>761.25</td>\n",
       "      <td>113.75</td>\n",
       "      <td>113.75</td>\n",
       "    </tr>\n",
       "    <tr>\n",
       "      <th>3</th>\n",
       "      <td>Prod002</td>\n",
       "      <td>Cus003</td>\n",
       "      <td>Mark003</td>\n",
       "      <td>2018-04-11</td>\n",
       "      <td>1</td>\n",
       "      <td>583.00</td>\n",
       "      <td>INR</td>\n",
       "      <td>583.00</td>\n",
       "      <td>13</td>\n",
       "      <td>507.21</td>\n",
       "      <td>75.79</td>\n",
       "      <td>75.79</td>\n",
       "    </tr>\n",
       "    <tr>\n",
       "      <th>4</th>\n",
       "      <td>Prod002</td>\n",
       "      <td>Cus004</td>\n",
       "      <td>Mark003</td>\n",
       "      <td>2018-06-18</td>\n",
       "      <td>6</td>\n",
       "      <td>7176.00</td>\n",
       "      <td>INR</td>\n",
       "      <td>1196.00</td>\n",
       "      <td>15</td>\n",
       "      <td>1016.60</td>\n",
       "      <td>179.40</td>\n",
       "      <td>1076.40</td>\n",
       "    </tr>\n",
       "    <tr>\n",
       "      <th>5</th>\n",
       "      <td>Prod003</td>\n",
       "      <td>Cus005</td>\n",
       "      <td>Mark004</td>\n",
       "      <td>2017-11-20</td>\n",
       "      <td>59</td>\n",
       "      <td>37500.00</td>\n",
       "      <td>INR</td>\n",
       "      <td>635.59</td>\n",
       "      <td>13</td>\n",
       "      <td>552.97</td>\n",
       "      <td>82.63</td>\n",
       "      <td>4875.00</td>\n",
       "    </tr>\n",
       "  </tbody>\n",
       "</table>\n",
       "</div>"
      ],
      "text/plain": [
       "  product_code customer_code market_code  order_date  sales_qty  sales_amount  \\\n",
       "0      Prod001        Cus001     Mark001  2017-10-10        100      41241.00   \n",
       "2      Prod002        Cus003     Mark003  2018-04-06          1        875.00   \n",
       "3      Prod002        Cus003     Mark003  2018-04-11          1        583.00   \n",
       "4      Prod002        Cus004     Mark003  2018-06-18          6       7176.00   \n",
       "5      Prod003        Cus005     Mark004  2017-11-20         59      37500.00   \n",
       "\n",
       "  currency  product_price  profit_percentage  original_price  profit  \\\n",
       "0      INR         412.41                 11          367.04   45.37   \n",
       "2      INR         875.00                 13          761.25  113.75   \n",
       "3      INR         583.00                 13          507.21   75.79   \n",
       "4      INR        1196.00                 15         1016.60  179.40   \n",
       "5      INR         635.59                 13          552.97   82.63   \n",
       "\n",
       "   total_profit  \n",
       "0       4536.51  \n",
       "2        113.75  \n",
       "3         75.79  \n",
       "4       1076.40  \n",
       "5       4875.00  "
      ]
     },
     "execution_count": 31,
     "metadata": {},
     "output_type": "execute_result"
    }
   ],
   "source": [
    "transactions.head()"
   ]
  },
  {
   "cell_type": "markdown",
   "id": "45559c62",
   "metadata": {},
   "source": [
    "#### Verifying Values"
   ]
  },
  {
   "cell_type": "code",
   "execution_count": 32,
   "id": "5665b7d5",
   "metadata": {},
   "outputs": [
    {
     "data": {
      "text/plain": [
       "986676768.0"
      ]
     },
     "execution_count": 32,
     "metadata": {},
     "output_type": "execute_result"
    }
   ],
   "source": [
    "transactions[\"sales_amount\"].sum()"
   ]
  },
  {
   "cell_type": "code",
   "execution_count": 33,
   "id": "918244b1",
   "metadata": {},
   "outputs": [
    {
     "data": {
      "text/plain": [
       "2431634"
      ]
     },
     "execution_count": 33,
     "metadata": {},
     "output_type": "execute_result"
    }
   ],
   "source": [
    "transactions[\"sales_qty\"].sum()"
   ]
  },
  {
   "cell_type": "code",
   "execution_count": 34,
   "id": "6699fc3f",
   "metadata": {},
   "outputs": [
    {
     "data": {
      "text/plain": [
       "137301039.1"
      ]
     },
     "execution_count": 34,
     "metadata": {},
     "output_type": "execute_result"
    }
   ],
   "source": [
    "transactions[\"total_profit\"].sum()"
   ]
  },
  {
   "cell_type": "code",
   "execution_count": 35,
   "id": "a62b3e70",
   "metadata": {},
   "outputs": [
    {
     "data": {
      "text/plain": [
       "(148672, 12)"
      ]
     },
     "execution_count": 35,
     "metadata": {},
     "output_type": "execute_result"
    }
   ],
   "source": [
    "transactions.shape"
   ]
  },
  {
   "cell_type": "markdown",
   "id": "1f0fcdb0",
   "metadata": {},
   "source": [
    "### Products"
   ]
  },
  {
   "cell_type": "code",
   "execution_count": 36,
   "id": "cac1b05c",
   "metadata": {},
   "outputs": [
    {
     "data": {
      "text/html": [
       "<div>\n",
       "<style scoped>\n",
       "    .dataframe tbody tr th:only-of-type {\n",
       "        vertical-align: middle;\n",
       "    }\n",
       "\n",
       "    .dataframe tbody tr th {\n",
       "        vertical-align: top;\n",
       "    }\n",
       "\n",
       "    .dataframe thead th {\n",
       "        text-align: right;\n",
       "    }\n",
       "</style>\n",
       "<table border=\"1\" class=\"dataframe\">\n",
       "  <thead>\n",
       "    <tr style=\"text-align: right;\">\n",
       "      <th></th>\n",
       "      <th>product_code</th>\n",
       "      <th>product_type</th>\n",
       "    </tr>\n",
       "  </thead>\n",
       "  <tbody>\n",
       "    <tr>\n",
       "      <th>0</th>\n",
       "      <td>Prod001</td>\n",
       "      <td>Own Brand</td>\n",
       "    </tr>\n",
       "    <tr>\n",
       "      <th>1</th>\n",
       "      <td>Prod002</td>\n",
       "      <td>Own Brand</td>\n",
       "    </tr>\n",
       "    <tr>\n",
       "      <th>2</th>\n",
       "      <td>Prod003</td>\n",
       "      <td>Own Brand</td>\n",
       "    </tr>\n",
       "    <tr>\n",
       "      <th>3</th>\n",
       "      <td>Prod004</td>\n",
       "      <td>Own Brand</td>\n",
       "    </tr>\n",
       "    <tr>\n",
       "      <th>4</th>\n",
       "      <td>Prod005</td>\n",
       "      <td>Own Brand</td>\n",
       "    </tr>\n",
       "  </tbody>\n",
       "</table>\n",
       "</div>"
      ],
      "text/plain": [
       "  product_code product_type\n",
       "0      Prod001    Own Brand\n",
       "1      Prod002    Own Brand\n",
       "2      Prod003    Own Brand\n",
       "3      Prod004    Own Brand\n",
       "4      Prod005    Own Brand"
      ]
     },
     "execution_count": 36,
     "metadata": {},
     "output_type": "execute_result"
    }
   ],
   "source": [
    "products.head()"
   ]
  },
  {
   "cell_type": "code",
   "execution_count": 37,
   "id": "eecb40cd",
   "metadata": {},
   "outputs": [
    {
     "data": {
      "text/plain": [
       "array(['Own Brand', 'Distribution'], dtype=object)"
      ]
     },
     "execution_count": 37,
     "metadata": {},
     "output_type": "execute_result"
    }
   ],
   "source": [
    "# returns unique elements of an array\n",
    "products[\"product_type\"].unique()"
   ]
  },
  {
   "cell_type": "code",
   "execution_count": 38,
   "id": "791a8837",
   "metadata": {},
   "outputs": [
    {
     "data": {
      "text/plain": [
       "279"
      ]
     },
     "execution_count": 38,
     "metadata": {},
     "output_type": "execute_result"
    }
   ],
   "source": [
    "# returns the number of unique elements\n",
    "products[\"product_code\"].nunique()"
   ]
  },
  {
   "cell_type": "code",
   "execution_count": 39,
   "id": "76550632",
   "metadata": {},
   "outputs": [
    {
     "data": {
      "text/plain": [
       "191"
      ]
     },
     "execution_count": 39,
     "metadata": {},
     "output_type": "execute_result"
    }
   ],
   "source": [
    "# find length of each product type\n",
    "len(products[products[\"product_type\"] == \"Own Brand\"])"
   ]
  },
  {
   "cell_type": "code",
   "execution_count": 40,
   "id": "3877023c",
   "metadata": {},
   "outputs": [
    {
     "data": {
      "text/plain": [
       "88"
      ]
     },
     "execution_count": 40,
     "metadata": {},
     "output_type": "execute_result"
    }
   ],
   "source": [
    "len(products[products[\"product_type\"] == \"Distribution\"])"
   ]
  },
  {
   "cell_type": "code",
   "execution_count": 41,
   "id": "6022c6dc",
   "metadata": {},
   "outputs": [
    {
     "data": {
      "text/plain": [
       "338"
      ]
     },
     "execution_count": 41,
     "metadata": {},
     "output_type": "execute_result"
    }
   ],
   "source": [
    "transactions[\"product_code\"].nunique()"
   ]
  },
  {
   "cell_type": "code",
   "execution_count": 42,
   "id": "c3e2d94c",
   "metadata": {},
   "outputs": [
    {
     "data": {
      "text/plain": [
       "274    Prod275\n",
       "275    Prod276\n",
       "276    Prod277\n",
       "277    Prod278\n",
       "278    Prod279\n",
       "dtype: object"
      ]
     },
     "execution_count": 42,
     "metadata": {},
     "output_type": "execute_result"
    }
   ],
   "source": [
    "product_code1 = pd.Series(products['product_code'].unique())\n",
    "product_code1.tail()"
   ]
  },
  {
   "cell_type": "code",
   "execution_count": 43,
   "id": "4301104e",
   "metadata": {},
   "outputs": [
    {
     "data": {
      "text/plain": [
       "333    Prod335\n",
       "334    Prod336\n",
       "335    Prod337\n",
       "336    Prod338\n",
       "337    Prod339\n",
       "dtype: object"
      ]
     },
     "execution_count": 43,
     "metadata": {},
     "output_type": "execute_result"
    }
   ],
   "source": [
    "product_code2 = pd.Series(transactions['product_code'].unique())\n",
    "product_code2.tail()"
   ]
  },
  {
   "cell_type": "code",
   "execution_count": 44,
   "id": "41fa09d2",
   "metadata": {},
   "outputs": [],
   "source": [
    "for x in range(279, 338, 1):\n",
    "    products = products.append({\"product_code\": product_code2[x], \"product_type\": \"Own Brand\"}, ignore_index=True)"
   ]
  },
  {
   "cell_type": "code",
   "execution_count": 45,
   "id": "4fbba14f",
   "metadata": {},
   "outputs": [
    {
     "data": {
      "text/plain": [
       "338"
      ]
     },
     "execution_count": 45,
     "metadata": {},
     "output_type": "execute_result"
    }
   ],
   "source": [
    "products[\"product_code\"].nunique()"
   ]
  },
  {
   "cell_type": "code",
   "execution_count": 46,
   "id": "8fd5dc8e",
   "metadata": {},
   "outputs": [
    {
     "data": {
      "text/html": [
       "<div>\n",
       "<style scoped>\n",
       "    .dataframe tbody tr th:only-of-type {\n",
       "        vertical-align: middle;\n",
       "    }\n",
       "\n",
       "    .dataframe tbody tr th {\n",
       "        vertical-align: top;\n",
       "    }\n",
       "\n",
       "    .dataframe thead th {\n",
       "        text-align: right;\n",
       "    }\n",
       "</style>\n",
       "<table border=\"1\" class=\"dataframe\">\n",
       "  <thead>\n",
       "    <tr style=\"text-align: right;\">\n",
       "      <th></th>\n",
       "      <th>product_code</th>\n",
       "      <th>product_type</th>\n",
       "    </tr>\n",
       "  </thead>\n",
       "  <tbody>\n",
       "    <tr>\n",
       "      <th>333</th>\n",
       "      <td>Prod335</td>\n",
       "      <td>Own Brand</td>\n",
       "    </tr>\n",
       "    <tr>\n",
       "      <th>334</th>\n",
       "      <td>Prod336</td>\n",
       "      <td>Own Brand</td>\n",
       "    </tr>\n",
       "    <tr>\n",
       "      <th>335</th>\n",
       "      <td>Prod337</td>\n",
       "      <td>Own Brand</td>\n",
       "    </tr>\n",
       "    <tr>\n",
       "      <th>336</th>\n",
       "      <td>Prod338</td>\n",
       "      <td>Own Brand</td>\n",
       "    </tr>\n",
       "    <tr>\n",
       "      <th>337</th>\n",
       "      <td>Prod339</td>\n",
       "      <td>Own Brand</td>\n",
       "    </tr>\n",
       "  </tbody>\n",
       "</table>\n",
       "</div>"
      ],
      "text/plain": [
       "    product_code product_type\n",
       "333      Prod335    Own Brand\n",
       "334      Prod336    Own Brand\n",
       "335      Prod337    Own Brand\n",
       "336      Prod338    Own Brand\n",
       "337      Prod339    Own Brand"
      ]
     },
     "execution_count": 46,
     "metadata": {},
     "output_type": "execute_result"
    }
   ],
   "source": [
    "products.tail()"
   ]
  },
  {
   "cell_type": "code",
   "execution_count": 47,
   "id": "492a7e4e",
   "metadata": {},
   "outputs": [
    {
     "data": {
      "text/plain": [
       "(148672, 12)"
      ]
     },
     "execution_count": 47,
     "metadata": {},
     "output_type": "execute_result"
    }
   ],
   "source": [
    "transactions.shape"
   ]
  },
  {
   "cell_type": "code",
   "execution_count": 48,
   "id": "7a95b89a",
   "metadata": {},
   "outputs": [
    {
     "data": {
      "text/html": [
       "<div>\n",
       "<style scoped>\n",
       "    .dataframe tbody tr th:only-of-type {\n",
       "        vertical-align: middle;\n",
       "    }\n",
       "\n",
       "    .dataframe tbody tr th {\n",
       "        vertical-align: top;\n",
       "    }\n",
       "\n",
       "    .dataframe thead th {\n",
       "        text-align: right;\n",
       "    }\n",
       "</style>\n",
       "<table border=\"1\" class=\"dataframe\">\n",
       "  <thead>\n",
       "    <tr style=\"text-align: right;\">\n",
       "      <th></th>\n",
       "      <th>product_code</th>\n",
       "      <th>customer_code</th>\n",
       "      <th>market_code</th>\n",
       "      <th>order_date</th>\n",
       "      <th>sales_qty</th>\n",
       "      <th>sales_amount</th>\n",
       "      <th>currency</th>\n",
       "      <th>product_price</th>\n",
       "      <th>profit_percentage</th>\n",
       "      <th>original_price</th>\n",
       "      <th>profit</th>\n",
       "      <th>total_profit</th>\n",
       "      <th>product_type</th>\n",
       "    </tr>\n",
       "  </thead>\n",
       "  <tbody>\n",
       "    <tr>\n",
       "      <th>0</th>\n",
       "      <td>Prod001</td>\n",
       "      <td>Cus001</td>\n",
       "      <td>Mark001</td>\n",
       "      <td>2017-10-10</td>\n",
       "      <td>100</td>\n",
       "      <td>41241.00</td>\n",
       "      <td>INR</td>\n",
       "      <td>412.41</td>\n",
       "      <td>11</td>\n",
       "      <td>367.04</td>\n",
       "      <td>45.37</td>\n",
       "      <td>4536.51</td>\n",
       "      <td>Own Brand</td>\n",
       "    </tr>\n",
       "    <tr>\n",
       "      <th>1</th>\n",
       "      <td>Prod001</td>\n",
       "      <td>Cus001</td>\n",
       "      <td>Mark001</td>\n",
       "      <td>2017-10-10</td>\n",
       "      <td>100</td>\n",
       "      <td>41241.00</td>\n",
       "      <td>INR</td>\n",
       "      <td>412.41</td>\n",
       "      <td>11</td>\n",
       "      <td>367.04</td>\n",
       "      <td>45.37</td>\n",
       "      <td>4536.51</td>\n",
       "      <td>Own Brand</td>\n",
       "    </tr>\n",
       "    <tr>\n",
       "      <th>2</th>\n",
       "      <td>Prod002</td>\n",
       "      <td>Cus003</td>\n",
       "      <td>Mark003</td>\n",
       "      <td>2018-04-06</td>\n",
       "      <td>1</td>\n",
       "      <td>875.00</td>\n",
       "      <td>INR</td>\n",
       "      <td>875.00</td>\n",
       "      <td>13</td>\n",
       "      <td>761.25</td>\n",
       "      <td>113.75</td>\n",
       "      <td>113.75</td>\n",
       "      <td>Own Brand</td>\n",
       "    </tr>\n",
       "    <tr>\n",
       "      <th>3</th>\n",
       "      <td>Prod002</td>\n",
       "      <td>Cus003</td>\n",
       "      <td>Mark003</td>\n",
       "      <td>2018-04-11</td>\n",
       "      <td>1</td>\n",
       "      <td>583.00</td>\n",
       "      <td>INR</td>\n",
       "      <td>583.00</td>\n",
       "      <td>13</td>\n",
       "      <td>507.21</td>\n",
       "      <td>75.79</td>\n",
       "      <td>75.79</td>\n",
       "      <td>Own Brand</td>\n",
       "    </tr>\n",
       "    <tr>\n",
       "      <th>4</th>\n",
       "      <td>Prod002</td>\n",
       "      <td>Cus004</td>\n",
       "      <td>Mark003</td>\n",
       "      <td>2018-06-18</td>\n",
       "      <td>6</td>\n",
       "      <td>7176.00</td>\n",
       "      <td>INR</td>\n",
       "      <td>1196.00</td>\n",
       "      <td>15</td>\n",
       "      <td>1016.60</td>\n",
       "      <td>179.40</td>\n",
       "      <td>1076.40</td>\n",
       "      <td>Own Brand</td>\n",
       "    </tr>\n",
       "  </tbody>\n",
       "</table>\n",
       "</div>"
      ],
      "text/plain": [
       "  product_code customer_code market_code  order_date  sales_qty  sales_amount  \\\n",
       "0      Prod001        Cus001     Mark001  2017-10-10        100      41241.00   \n",
       "1      Prod001        Cus001     Mark001  2017-10-10        100      41241.00   \n",
       "2      Prod002        Cus003     Mark003  2018-04-06          1        875.00   \n",
       "3      Prod002        Cus003     Mark003  2018-04-11          1        583.00   \n",
       "4      Prod002        Cus004     Mark003  2018-06-18          6       7176.00   \n",
       "\n",
       "  currency  product_price  profit_percentage  original_price  profit  \\\n",
       "0      INR         412.41                 11          367.04   45.37   \n",
       "1      INR         412.41                 11          367.04   45.37   \n",
       "2      INR         875.00                 13          761.25  113.75   \n",
       "3      INR         583.00                 13          507.21   75.79   \n",
       "4      INR        1196.00                 15         1016.60  179.40   \n",
       "\n",
       "   total_profit product_type  \n",
       "0       4536.51    Own Brand  \n",
       "1       4536.51    Own Brand  \n",
       "2        113.75    Own Brand  \n",
       "3         75.79    Own Brand  \n",
       "4       1076.40    Own Brand  "
      ]
     },
     "execution_count": 48,
     "metadata": {},
     "output_type": "execute_result"
    }
   ],
   "source": [
    "transactions1 = pd.merge(transactions, products, how=\"inner\", on=\"product_code\")\n",
    "transactions1.head()"
   ]
  },
  {
   "cell_type": "code",
   "execution_count": 49,
   "id": "13b74f3e",
   "metadata": {},
   "outputs": [
    {
     "data": {
      "text/plain": [
       "(148672, 13)"
      ]
     },
     "execution_count": 49,
     "metadata": {},
     "output_type": "execute_result"
    }
   ],
   "source": [
    "transactions1.shape"
   ]
  },
  {
   "cell_type": "markdown",
   "id": "5c7d8125",
   "metadata": {},
   "source": [
    "### Customers"
   ]
  },
  {
   "cell_type": "code",
   "execution_count": 50,
   "id": "dc3ed126",
   "metadata": {},
   "outputs": [
    {
     "data": {
      "text/html": [
       "<div>\n",
       "<style scoped>\n",
       "    .dataframe tbody tr th:only-of-type {\n",
       "        vertical-align: middle;\n",
       "    }\n",
       "\n",
       "    .dataframe tbody tr th {\n",
       "        vertical-align: top;\n",
       "    }\n",
       "\n",
       "    .dataframe thead th {\n",
       "        text-align: right;\n",
       "    }\n",
       "</style>\n",
       "<table border=\"1\" class=\"dataframe\">\n",
       "  <thead>\n",
       "    <tr style=\"text-align: right;\">\n",
       "      <th></th>\n",
       "      <th>customer_code</th>\n",
       "      <th>custmer_name</th>\n",
       "      <th>customer_type</th>\n",
       "    </tr>\n",
       "  </thead>\n",
       "  <tbody>\n",
       "    <tr>\n",
       "      <th>0</th>\n",
       "      <td>Cus001</td>\n",
       "      <td>Surge Stores</td>\n",
       "      <td>Brick &amp; Mortar</td>\n",
       "    </tr>\n",
       "    <tr>\n",
       "      <th>1</th>\n",
       "      <td>Cus002</td>\n",
       "      <td>Nomad Stores</td>\n",
       "      <td>Brick &amp; Mortar</td>\n",
       "    </tr>\n",
       "    <tr>\n",
       "      <th>2</th>\n",
       "      <td>Cus003</td>\n",
       "      <td>Excel Stores</td>\n",
       "      <td>Brick &amp; Mortar</td>\n",
       "    </tr>\n",
       "    <tr>\n",
       "      <th>3</th>\n",
       "      <td>Cus004</td>\n",
       "      <td>Surface Stores</td>\n",
       "      <td>Brick &amp; Mortar</td>\n",
       "    </tr>\n",
       "    <tr>\n",
       "      <th>4</th>\n",
       "      <td>Cus005</td>\n",
       "      <td>Premium Stores</td>\n",
       "      <td>Brick &amp; Mortar</td>\n",
       "    </tr>\n",
       "  </tbody>\n",
       "</table>\n",
       "</div>"
      ],
      "text/plain": [
       "  customer_code    custmer_name   customer_type\n",
       "0        Cus001    Surge Stores  Brick & Mortar\n",
       "1        Cus002    Nomad Stores  Brick & Mortar\n",
       "2        Cus003    Excel Stores  Brick & Mortar\n",
       "3        Cus004  Surface Stores  Brick & Mortar\n",
       "4        Cus005  Premium Stores  Brick & Mortar"
      ]
     },
     "execution_count": 50,
     "metadata": {},
     "output_type": "execute_result"
    }
   ],
   "source": [
    "customers.head()"
   ]
  },
  {
   "cell_type": "code",
   "execution_count": 51,
   "id": "b0dd07bd",
   "metadata": {},
   "outputs": [
    {
     "data": {
      "text/plain": [
       "array(['Brick & Mortar', 'E-Commerce'], dtype=object)"
      ]
     },
     "execution_count": 51,
     "metadata": {},
     "output_type": "execute_result"
    }
   ],
   "source": [
    "# returns unique elements of an array\n",
    "customers[\"customer_type\"].unique()"
   ]
  },
  {
   "cell_type": "code",
   "execution_count": 52,
   "id": "a686e3ae",
   "metadata": {},
   "outputs": [
    {
     "data": {
      "text/plain": [
       "38"
      ]
     },
     "execution_count": 52,
     "metadata": {},
     "output_type": "execute_result"
    }
   ],
   "source": [
    "# returns the number of unique elements\n",
    "customers[\"custmer_name\"].nunique()"
   ]
  },
  {
   "cell_type": "code",
   "execution_count": 53,
   "id": "cc84d4ac",
   "metadata": {},
   "outputs": [
    {
     "data": {
      "text/plain": [
       "38"
      ]
     },
     "execution_count": 53,
     "metadata": {},
     "output_type": "execute_result"
    }
   ],
   "source": [
    "customers[\"customer_code\"].nunique()"
   ]
  },
  {
   "cell_type": "code",
   "execution_count": 54,
   "id": "2fb42f19",
   "metadata": {},
   "outputs": [
    {
     "data": {
      "text/plain": [
       "(148672, 13)"
      ]
     },
     "execution_count": 54,
     "metadata": {},
     "output_type": "execute_result"
    }
   ],
   "source": [
    "transactions1.shape"
   ]
  },
  {
   "cell_type": "code",
   "execution_count": 55,
   "id": "b6f84dcc",
   "metadata": {},
   "outputs": [
    {
     "data": {
      "text/html": [
       "<div>\n",
       "<style scoped>\n",
       "    .dataframe tbody tr th:only-of-type {\n",
       "        vertical-align: middle;\n",
       "    }\n",
       "\n",
       "    .dataframe tbody tr th {\n",
       "        vertical-align: top;\n",
       "    }\n",
       "\n",
       "    .dataframe thead th {\n",
       "        text-align: right;\n",
       "    }\n",
       "</style>\n",
       "<table border=\"1\" class=\"dataframe\">\n",
       "  <thead>\n",
       "    <tr style=\"text-align: right;\">\n",
       "      <th></th>\n",
       "      <th>product_code</th>\n",
       "      <th>customer_code</th>\n",
       "      <th>market_code</th>\n",
       "      <th>order_date</th>\n",
       "      <th>sales_qty</th>\n",
       "      <th>sales_amount</th>\n",
       "      <th>currency</th>\n",
       "      <th>product_price</th>\n",
       "      <th>profit_percentage</th>\n",
       "      <th>original_price</th>\n",
       "      <th>profit</th>\n",
       "      <th>total_profit</th>\n",
       "      <th>product_type</th>\n",
       "      <th>custmer_name</th>\n",
       "      <th>customer_type</th>\n",
       "    </tr>\n",
       "  </thead>\n",
       "  <tbody>\n",
       "    <tr>\n",
       "      <th>0</th>\n",
       "      <td>Prod001</td>\n",
       "      <td>Cus001</td>\n",
       "      <td>Mark001</td>\n",
       "      <td>2017-10-10</td>\n",
       "      <td>100</td>\n",
       "      <td>41241.00</td>\n",
       "      <td>INR</td>\n",
       "      <td>412.41</td>\n",
       "      <td>11</td>\n",
       "      <td>367.04</td>\n",
       "      <td>45.37</td>\n",
       "      <td>4536.51</td>\n",
       "      <td>Own Brand</td>\n",
       "      <td>Surge Stores</td>\n",
       "      <td>Brick &amp; Mortar</td>\n",
       "    </tr>\n",
       "    <tr>\n",
       "      <th>1</th>\n",
       "      <td>Prod001</td>\n",
       "      <td>Cus001</td>\n",
       "      <td>Mark001</td>\n",
       "      <td>2017-10-10</td>\n",
       "      <td>100</td>\n",
       "      <td>41241.00</td>\n",
       "      <td>INR</td>\n",
       "      <td>412.41</td>\n",
       "      <td>11</td>\n",
       "      <td>367.04</td>\n",
       "      <td>45.37</td>\n",
       "      <td>4536.51</td>\n",
       "      <td>Own Brand</td>\n",
       "      <td>Surge Stores</td>\n",
       "      <td>Brick &amp; Mortar</td>\n",
       "    </tr>\n",
       "    <tr>\n",
       "      <th>2</th>\n",
       "      <td>Prod013</td>\n",
       "      <td>Cus001</td>\n",
       "      <td>Mark001</td>\n",
       "      <td>2017-10-10</td>\n",
       "      <td>240</td>\n",
       "      <td>143560.00</td>\n",
       "      <td>INR</td>\n",
       "      <td>598.17</td>\n",
       "      <td>13</td>\n",
       "      <td>520.40</td>\n",
       "      <td>77.76</td>\n",
       "      <td>18662.80</td>\n",
       "      <td>Own Brand</td>\n",
       "      <td>Surge Stores</td>\n",
       "      <td>Brick &amp; Mortar</td>\n",
       "    </tr>\n",
       "    <tr>\n",
       "      <th>3</th>\n",
       "      <td>Prod013</td>\n",
       "      <td>Cus001</td>\n",
       "      <td>Mark001</td>\n",
       "      <td>2017-10-10</td>\n",
       "      <td>240</td>\n",
       "      <td>143560.00</td>\n",
       "      <td>INR</td>\n",
       "      <td>598.17</td>\n",
       "      <td>13</td>\n",
       "      <td>520.40</td>\n",
       "      <td>77.76</td>\n",
       "      <td>18662.80</td>\n",
       "      <td>Own Brand</td>\n",
       "      <td>Surge Stores</td>\n",
       "      <td>Brick &amp; Mortar</td>\n",
       "    </tr>\n",
       "    <tr>\n",
       "      <th>4</th>\n",
       "      <td>Prod016</td>\n",
       "      <td>Cus001</td>\n",
       "      <td>Mark001</td>\n",
       "      <td>2018-06-28</td>\n",
       "      <td>187</td>\n",
       "      <td>115481.00</td>\n",
       "      <td>INR</td>\n",
       "      <td>617.55</td>\n",
       "      <td>13</td>\n",
       "      <td>537.26</td>\n",
       "      <td>80.28</td>\n",
       "      <td>15012.53</td>\n",
       "      <td>Own Brand</td>\n",
       "      <td>Surge Stores</td>\n",
       "      <td>Brick &amp; Mortar</td>\n",
       "    </tr>\n",
       "  </tbody>\n",
       "</table>\n",
       "</div>"
      ],
      "text/plain": [
       "  product_code customer_code market_code  order_date  sales_qty  sales_amount  \\\n",
       "0      Prod001        Cus001     Mark001  2017-10-10        100      41241.00   \n",
       "1      Prod001        Cus001     Mark001  2017-10-10        100      41241.00   \n",
       "2      Prod013        Cus001     Mark001  2017-10-10        240     143560.00   \n",
       "3      Prod013        Cus001     Mark001  2017-10-10        240     143560.00   \n",
       "4      Prod016        Cus001     Mark001  2018-06-28        187     115481.00   \n",
       "\n",
       "  currency  product_price  profit_percentage  original_price  profit  \\\n",
       "0      INR         412.41                 11          367.04   45.37   \n",
       "1      INR         412.41                 11          367.04   45.37   \n",
       "2      INR         598.17                 13          520.40   77.76   \n",
       "3      INR         598.17                 13          520.40   77.76   \n",
       "4      INR         617.55                 13          537.26   80.28   \n",
       "\n",
       "   total_profit product_type  custmer_name   customer_type  \n",
       "0       4536.51    Own Brand  Surge Stores  Brick & Mortar  \n",
       "1       4536.51    Own Brand  Surge Stores  Brick & Mortar  \n",
       "2      18662.80    Own Brand  Surge Stores  Brick & Mortar  \n",
       "3      18662.80    Own Brand  Surge Stores  Brick & Mortar  \n",
       "4      15012.53    Own Brand  Surge Stores  Brick & Mortar  "
      ]
     },
     "execution_count": 55,
     "metadata": {},
     "output_type": "execute_result"
    }
   ],
   "source": [
    "transactions2 = pd.merge(transactions1, customers, how=\"inner\", on=\"customer_code\")\n",
    "transactions2.head()"
   ]
  },
  {
   "cell_type": "code",
   "execution_count": 56,
   "id": "84dfd342",
   "metadata": {},
   "outputs": [
    {
     "data": {
      "text/plain": [
       "(148672, 15)"
      ]
     },
     "execution_count": 56,
     "metadata": {},
     "output_type": "execute_result"
    }
   ],
   "source": [
    "transactions2.shape"
   ]
  },
  {
   "cell_type": "markdown",
   "id": "72461aee",
   "metadata": {},
   "source": [
    "### Markets"
   ]
  },
  {
   "cell_type": "code",
   "execution_count": 57,
   "id": "5ec1d0cd",
   "metadata": {},
   "outputs": [
    {
     "data": {
      "text/html": [
       "<div>\n",
       "<style scoped>\n",
       "    .dataframe tbody tr th:only-of-type {\n",
       "        vertical-align: middle;\n",
       "    }\n",
       "\n",
       "    .dataframe tbody tr th {\n",
       "        vertical-align: top;\n",
       "    }\n",
       "\n",
       "    .dataframe thead th {\n",
       "        text-align: right;\n",
       "    }\n",
       "</style>\n",
       "<table border=\"1\" class=\"dataframe\">\n",
       "  <thead>\n",
       "    <tr style=\"text-align: right;\">\n",
       "      <th></th>\n",
       "      <th>markets_code</th>\n",
       "      <th>markets_name</th>\n",
       "      <th>zone</th>\n",
       "    </tr>\n",
       "  </thead>\n",
       "  <tbody>\n",
       "    <tr>\n",
       "      <th>0</th>\n",
       "      <td>Mark001</td>\n",
       "      <td>Chennai</td>\n",
       "      <td>South</td>\n",
       "    </tr>\n",
       "    <tr>\n",
       "      <th>1</th>\n",
       "      <td>Mark002</td>\n",
       "      <td>Mumbai</td>\n",
       "      <td>Central</td>\n",
       "    </tr>\n",
       "    <tr>\n",
       "      <th>2</th>\n",
       "      <td>Mark003</td>\n",
       "      <td>Ahmedabad</td>\n",
       "      <td>North</td>\n",
       "    </tr>\n",
       "    <tr>\n",
       "      <th>3</th>\n",
       "      <td>Mark004</td>\n",
       "      <td>Delhi NCR</td>\n",
       "      <td>North</td>\n",
       "    </tr>\n",
       "    <tr>\n",
       "      <th>4</th>\n",
       "      <td>Mark005</td>\n",
       "      <td>Kanpur</td>\n",
       "      <td>North</td>\n",
       "    </tr>\n",
       "  </tbody>\n",
       "</table>\n",
       "</div>"
      ],
      "text/plain": [
       "  markets_code markets_name     zone\n",
       "0      Mark001      Chennai    South\n",
       "1      Mark002       Mumbai  Central\n",
       "2      Mark003    Ahmedabad    North\n",
       "3      Mark004    Delhi NCR    North\n",
       "4      Mark005       Kanpur    North"
      ]
     },
     "execution_count": 57,
     "metadata": {},
     "output_type": "execute_result"
    }
   ],
   "source": [
    "markets.head()"
   ]
  },
  {
   "cell_type": "code",
   "execution_count": 58,
   "id": "2a626789",
   "metadata": {},
   "outputs": [
    {
     "data": {
      "text/html": [
       "<div>\n",
       "<style scoped>\n",
       "    .dataframe tbody tr th:only-of-type {\n",
       "        vertical-align: middle;\n",
       "    }\n",
       "\n",
       "    .dataframe tbody tr th {\n",
       "        vertical-align: top;\n",
       "    }\n",
       "\n",
       "    .dataframe thead th {\n",
       "        text-align: right;\n",
       "    }\n",
       "</style>\n",
       "<table border=\"1\" class=\"dataframe\">\n",
       "  <thead>\n",
       "    <tr style=\"text-align: right;\">\n",
       "      <th></th>\n",
       "      <th>market_code</th>\n",
       "      <th>market_name</th>\n",
       "      <th>zone</th>\n",
       "    </tr>\n",
       "  </thead>\n",
       "  <tbody>\n",
       "    <tr>\n",
       "      <th>0</th>\n",
       "      <td>Mark001</td>\n",
       "      <td>Chennai</td>\n",
       "      <td>South</td>\n",
       "    </tr>\n",
       "    <tr>\n",
       "      <th>1</th>\n",
       "      <td>Mark002</td>\n",
       "      <td>Mumbai</td>\n",
       "      <td>Central</td>\n",
       "    </tr>\n",
       "    <tr>\n",
       "      <th>2</th>\n",
       "      <td>Mark003</td>\n",
       "      <td>Ahmedabad</td>\n",
       "      <td>North</td>\n",
       "    </tr>\n",
       "    <tr>\n",
       "      <th>3</th>\n",
       "      <td>Mark004</td>\n",
       "      <td>Delhi NCR</td>\n",
       "      <td>North</td>\n",
       "    </tr>\n",
       "    <tr>\n",
       "      <th>4</th>\n",
       "      <td>Mark005</td>\n",
       "      <td>Kanpur</td>\n",
       "      <td>North</td>\n",
       "    </tr>\n",
       "  </tbody>\n",
       "</table>\n",
       "</div>"
      ],
      "text/plain": [
       "  market_code market_name     zone\n",
       "0     Mark001     Chennai    South\n",
       "1     Mark002      Mumbai  Central\n",
       "2     Mark003   Ahmedabad    North\n",
       "3     Mark004   Delhi NCR    North\n",
       "4     Mark005      Kanpur    North"
      ]
     },
     "execution_count": 58,
     "metadata": {},
     "output_type": "execute_result"
    }
   ],
   "source": [
    "# change column names according to transactions table\n",
    "markets = markets.rename(columns={\"markets_code\": \"market_code\", \"markets_name\": \"market_name\"})\n",
    "markets.head()"
   ]
  },
  {
   "cell_type": "code",
   "execution_count": 59,
   "id": "2f74967e",
   "metadata": {},
   "outputs": [
    {
     "data": {
      "text/plain": [
       "array(['Chennai', 'Mumbai', 'Ahmedabad', 'Delhi NCR', 'Kanpur',\n",
       "       'Bengaluru', 'Bhopal', 'Lucknow', 'Patna', 'Kochi', 'Nagpur',\n",
       "       'Surat', 'Hyderabad', 'Bhubaneshwar'], dtype=object)"
      ]
     },
     "execution_count": 59,
     "metadata": {},
     "output_type": "execute_result"
    }
   ],
   "source": [
    "markets[\"market_name\"].unique()"
   ]
  },
  {
   "cell_type": "code",
   "execution_count": 60,
   "id": "41b8c74c",
   "metadata": {},
   "outputs": [
    {
     "data": {
      "text/plain": [
       "14"
      ]
     },
     "execution_count": 60,
     "metadata": {},
     "output_type": "execute_result"
    }
   ],
   "source": [
    "markets[\"market_name\"].nunique()"
   ]
  },
  {
   "cell_type": "code",
   "execution_count": 61,
   "id": "de8de461",
   "metadata": {},
   "outputs": [
    {
     "data": {
      "text/plain": [
       "15"
      ]
     },
     "execution_count": 61,
     "metadata": {},
     "output_type": "execute_result"
    }
   ],
   "source": [
    "markets[\"market_code\"].nunique()"
   ]
  },
  {
   "cell_type": "code",
   "execution_count": 62,
   "id": "cb722638",
   "metadata": {},
   "outputs": [
    {
     "data": {
      "text/plain": [
       "3"
      ]
     },
     "execution_count": 62,
     "metadata": {},
     "output_type": "execute_result"
    }
   ],
   "source": [
    "markets[\"zone\"].nunique()"
   ]
  },
  {
   "cell_type": "code",
   "execution_count": 63,
   "id": "38d9daff",
   "metadata": {},
   "outputs": [
    {
     "data": {
      "text/plain": [
       "15"
      ]
     },
     "execution_count": 63,
     "metadata": {},
     "output_type": "execute_result"
    }
   ],
   "source": [
    "transactions[\"market_code\"].nunique()"
   ]
  },
  {
   "cell_type": "code",
   "execution_count": 64,
   "id": "1d466fa6",
   "metadata": {},
   "outputs": [
    {
     "data": {
      "text/plain": [
       "(148672, 15)"
      ]
     },
     "execution_count": 64,
     "metadata": {},
     "output_type": "execute_result"
    }
   ],
   "source": [
    "transactions2.shape"
   ]
  },
  {
   "cell_type": "code",
   "execution_count": 65,
   "id": "53d80cfb",
   "metadata": {},
   "outputs": [
    {
     "data": {
      "text/html": [
       "<div>\n",
       "<style scoped>\n",
       "    .dataframe tbody tr th:only-of-type {\n",
       "        vertical-align: middle;\n",
       "    }\n",
       "\n",
       "    .dataframe tbody tr th {\n",
       "        vertical-align: top;\n",
       "    }\n",
       "\n",
       "    .dataframe thead th {\n",
       "        text-align: right;\n",
       "    }\n",
       "</style>\n",
       "<table border=\"1\" class=\"dataframe\">\n",
       "  <thead>\n",
       "    <tr style=\"text-align: right;\">\n",
       "      <th></th>\n",
       "      <th>product_code</th>\n",
       "      <th>customer_code</th>\n",
       "      <th>market_code</th>\n",
       "      <th>order_date</th>\n",
       "      <th>sales_qty</th>\n",
       "      <th>sales_amount</th>\n",
       "      <th>currency</th>\n",
       "      <th>product_price</th>\n",
       "      <th>profit_percentage</th>\n",
       "      <th>original_price</th>\n",
       "      <th>profit</th>\n",
       "      <th>total_profit</th>\n",
       "      <th>product_type</th>\n",
       "      <th>custmer_name</th>\n",
       "      <th>customer_type</th>\n",
       "      <th>market_name</th>\n",
       "      <th>zone</th>\n",
       "    </tr>\n",
       "  </thead>\n",
       "  <tbody>\n",
       "    <tr>\n",
       "      <th>0</th>\n",
       "      <td>Prod001</td>\n",
       "      <td>Cus001</td>\n",
       "      <td>Mark001</td>\n",
       "      <td>2017-10-10</td>\n",
       "      <td>100</td>\n",
       "      <td>41241.00</td>\n",
       "      <td>INR</td>\n",
       "      <td>412.41</td>\n",
       "      <td>11</td>\n",
       "      <td>367.04</td>\n",
       "      <td>45.37</td>\n",
       "      <td>4536.51</td>\n",
       "      <td>Own Brand</td>\n",
       "      <td>Surge Stores</td>\n",
       "      <td>Brick &amp; Mortar</td>\n",
       "      <td>Chennai</td>\n",
       "      <td>South</td>\n",
       "    </tr>\n",
       "    <tr>\n",
       "      <th>1</th>\n",
       "      <td>Prod001</td>\n",
       "      <td>Cus001</td>\n",
       "      <td>Mark001</td>\n",
       "      <td>2017-10-10</td>\n",
       "      <td>100</td>\n",
       "      <td>41241.00</td>\n",
       "      <td>INR</td>\n",
       "      <td>412.41</td>\n",
       "      <td>11</td>\n",
       "      <td>367.04</td>\n",
       "      <td>45.37</td>\n",
       "      <td>4536.51</td>\n",
       "      <td>Own Brand</td>\n",
       "      <td>Surge Stores</td>\n",
       "      <td>Brick &amp; Mortar</td>\n",
       "      <td>Chennai</td>\n",
       "      <td>South</td>\n",
       "    </tr>\n",
       "    <tr>\n",
       "      <th>2</th>\n",
       "      <td>Prod013</td>\n",
       "      <td>Cus001</td>\n",
       "      <td>Mark001</td>\n",
       "      <td>2017-10-10</td>\n",
       "      <td>240</td>\n",
       "      <td>143560.00</td>\n",
       "      <td>INR</td>\n",
       "      <td>598.17</td>\n",
       "      <td>13</td>\n",
       "      <td>520.40</td>\n",
       "      <td>77.76</td>\n",
       "      <td>18662.80</td>\n",
       "      <td>Own Brand</td>\n",
       "      <td>Surge Stores</td>\n",
       "      <td>Brick &amp; Mortar</td>\n",
       "      <td>Chennai</td>\n",
       "      <td>South</td>\n",
       "    </tr>\n",
       "    <tr>\n",
       "      <th>3</th>\n",
       "      <td>Prod013</td>\n",
       "      <td>Cus001</td>\n",
       "      <td>Mark001</td>\n",
       "      <td>2017-10-10</td>\n",
       "      <td>240</td>\n",
       "      <td>143560.00</td>\n",
       "      <td>INR</td>\n",
       "      <td>598.17</td>\n",
       "      <td>13</td>\n",
       "      <td>520.40</td>\n",
       "      <td>77.76</td>\n",
       "      <td>18662.80</td>\n",
       "      <td>Own Brand</td>\n",
       "      <td>Surge Stores</td>\n",
       "      <td>Brick &amp; Mortar</td>\n",
       "      <td>Chennai</td>\n",
       "      <td>South</td>\n",
       "    </tr>\n",
       "    <tr>\n",
       "      <th>4</th>\n",
       "      <td>Prod016</td>\n",
       "      <td>Cus001</td>\n",
       "      <td>Mark001</td>\n",
       "      <td>2018-06-28</td>\n",
       "      <td>187</td>\n",
       "      <td>115481.00</td>\n",
       "      <td>INR</td>\n",
       "      <td>617.55</td>\n",
       "      <td>13</td>\n",
       "      <td>537.26</td>\n",
       "      <td>80.28</td>\n",
       "      <td>15012.53</td>\n",
       "      <td>Own Brand</td>\n",
       "      <td>Surge Stores</td>\n",
       "      <td>Brick &amp; Mortar</td>\n",
       "      <td>Chennai</td>\n",
       "      <td>South</td>\n",
       "    </tr>\n",
       "  </tbody>\n",
       "</table>\n",
       "</div>"
      ],
      "text/plain": [
       "  product_code customer_code market_code  order_date  sales_qty  sales_amount  \\\n",
       "0      Prod001        Cus001     Mark001  2017-10-10        100      41241.00   \n",
       "1      Prod001        Cus001     Mark001  2017-10-10        100      41241.00   \n",
       "2      Prod013        Cus001     Mark001  2017-10-10        240     143560.00   \n",
       "3      Prod013        Cus001     Mark001  2017-10-10        240     143560.00   \n",
       "4      Prod016        Cus001     Mark001  2018-06-28        187     115481.00   \n",
       "\n",
       "  currency  product_price  profit_percentage  original_price  profit  \\\n",
       "0      INR         412.41                 11          367.04   45.37   \n",
       "1      INR         412.41                 11          367.04   45.37   \n",
       "2      INR         598.17                 13          520.40   77.76   \n",
       "3      INR         598.17                 13          520.40   77.76   \n",
       "4      INR         617.55                 13          537.26   80.28   \n",
       "\n",
       "   total_profit product_type  custmer_name   customer_type market_name   zone  \n",
       "0       4536.51    Own Brand  Surge Stores  Brick & Mortar     Chennai  South  \n",
       "1       4536.51    Own Brand  Surge Stores  Brick & Mortar     Chennai  South  \n",
       "2      18662.80    Own Brand  Surge Stores  Brick & Mortar     Chennai  South  \n",
       "3      18662.80    Own Brand  Surge Stores  Brick & Mortar     Chennai  South  \n",
       "4      15012.53    Own Brand  Surge Stores  Brick & Mortar     Chennai  South  "
      ]
     },
     "execution_count": 65,
     "metadata": {},
     "output_type": "execute_result"
    }
   ],
   "source": [
    "transactions3 = pd.merge(transactions2, markets, how=\"inner\", on=\"market_code\")\n",
    "transactions3.head()"
   ]
  },
  {
   "cell_type": "code",
   "execution_count": 66,
   "id": "91542cb9",
   "metadata": {},
   "outputs": [
    {
     "data": {
      "text/plain": [
       "(148672, 17)"
      ]
     },
     "execution_count": 66,
     "metadata": {},
     "output_type": "execute_result"
    }
   ],
   "source": [
    "transactions3.shape"
   ]
  },
  {
   "cell_type": "markdown",
   "id": "6e34aa36",
   "metadata": {},
   "source": [
    "### Date"
   ]
  },
  {
   "cell_type": "code",
   "execution_count": 67,
   "id": "aa399f7d",
   "metadata": {},
   "outputs": [
    {
     "data": {
      "text/html": [
       "<div>\n",
       "<style scoped>\n",
       "    .dataframe tbody tr th:only-of-type {\n",
       "        vertical-align: middle;\n",
       "    }\n",
       "\n",
       "    .dataframe tbody tr th {\n",
       "        vertical-align: top;\n",
       "    }\n",
       "\n",
       "    .dataframe thead th {\n",
       "        text-align: right;\n",
       "    }\n",
       "</style>\n",
       "<table border=\"1\" class=\"dataframe\">\n",
       "  <thead>\n",
       "    <tr style=\"text-align: right;\">\n",
       "      <th></th>\n",
       "      <th>date</th>\n",
       "      <th>cy_date</th>\n",
       "      <th>year</th>\n",
       "      <th>month_name</th>\n",
       "      <th>date_yy_mmm</th>\n",
       "    </tr>\n",
       "  </thead>\n",
       "  <tbody>\n",
       "    <tr>\n",
       "      <th>0</th>\n",
       "      <td>2017-06-01</td>\n",
       "      <td>2017-06-01</td>\n",
       "      <td>2017</td>\n",
       "      <td>June</td>\n",
       "      <td>17-Jun</td>\n",
       "    </tr>\n",
       "    <tr>\n",
       "      <th>1</th>\n",
       "      <td>2017-06-02</td>\n",
       "      <td>2017-06-01</td>\n",
       "      <td>2017</td>\n",
       "      <td>June</td>\n",
       "      <td>17-Jun</td>\n",
       "    </tr>\n",
       "    <tr>\n",
       "      <th>2</th>\n",
       "      <td>2017-06-03</td>\n",
       "      <td>2017-06-01</td>\n",
       "      <td>2017</td>\n",
       "      <td>June</td>\n",
       "      <td>17-Jun</td>\n",
       "    </tr>\n",
       "    <tr>\n",
       "      <th>3</th>\n",
       "      <td>2017-06-04</td>\n",
       "      <td>2017-06-01</td>\n",
       "      <td>2017</td>\n",
       "      <td>June</td>\n",
       "      <td>17-Jun</td>\n",
       "    </tr>\n",
       "    <tr>\n",
       "      <th>4</th>\n",
       "      <td>2017-06-05</td>\n",
       "      <td>2017-06-01</td>\n",
       "      <td>2017</td>\n",
       "      <td>June</td>\n",
       "      <td>17-Jun</td>\n",
       "    </tr>\n",
       "  </tbody>\n",
       "</table>\n",
       "</div>"
      ],
      "text/plain": [
       "         date     cy_date  year month_name date_yy_mmm\n",
       "0  2017-06-01  2017-06-01  2017       June      17-Jun\n",
       "1  2017-06-02  2017-06-01  2017       June      17-Jun\n",
       "2  2017-06-03  2017-06-01  2017       June      17-Jun\n",
       "3  2017-06-04  2017-06-01  2017       June      17-Jun\n",
       "4  2017-06-05  2017-06-01  2017       June      17-Jun"
      ]
     },
     "execution_count": 67,
     "metadata": {},
     "output_type": "execute_result"
    }
   ],
   "source": [
    "date.head()"
   ]
  },
  {
   "cell_type": "code",
   "execution_count": 68,
   "id": "de4161aa",
   "metadata": {},
   "outputs": [
    {
     "data": {
      "text/html": [
       "<div>\n",
       "<style scoped>\n",
       "    .dataframe tbody tr th:only-of-type {\n",
       "        vertical-align: middle;\n",
       "    }\n",
       "\n",
       "    .dataframe tbody tr th {\n",
       "        vertical-align: top;\n",
       "    }\n",
       "\n",
       "    .dataframe thead th {\n",
       "        text-align: right;\n",
       "    }\n",
       "</style>\n",
       "<table border=\"1\" class=\"dataframe\">\n",
       "  <thead>\n",
       "    <tr style=\"text-align: right;\">\n",
       "      <th></th>\n",
       "      <th>order_date</th>\n",
       "      <th>cy_date</th>\n",
       "      <th>year</th>\n",
       "      <th>month_name</th>\n",
       "      <th>date_yy_mmm</th>\n",
       "    </tr>\n",
       "  </thead>\n",
       "  <tbody>\n",
       "    <tr>\n",
       "      <th>0</th>\n",
       "      <td>2017-06-01</td>\n",
       "      <td>2017-06-01</td>\n",
       "      <td>2017</td>\n",
       "      <td>June</td>\n",
       "      <td>17-Jun</td>\n",
       "    </tr>\n",
       "    <tr>\n",
       "      <th>1</th>\n",
       "      <td>2017-06-02</td>\n",
       "      <td>2017-06-01</td>\n",
       "      <td>2017</td>\n",
       "      <td>June</td>\n",
       "      <td>17-Jun</td>\n",
       "    </tr>\n",
       "    <tr>\n",
       "      <th>2</th>\n",
       "      <td>2017-06-03</td>\n",
       "      <td>2017-06-01</td>\n",
       "      <td>2017</td>\n",
       "      <td>June</td>\n",
       "      <td>17-Jun</td>\n",
       "    </tr>\n",
       "    <tr>\n",
       "      <th>3</th>\n",
       "      <td>2017-06-04</td>\n",
       "      <td>2017-06-01</td>\n",
       "      <td>2017</td>\n",
       "      <td>June</td>\n",
       "      <td>17-Jun</td>\n",
       "    </tr>\n",
       "    <tr>\n",
       "      <th>4</th>\n",
       "      <td>2017-06-05</td>\n",
       "      <td>2017-06-01</td>\n",
       "      <td>2017</td>\n",
       "      <td>June</td>\n",
       "      <td>17-Jun</td>\n",
       "    </tr>\n",
       "  </tbody>\n",
       "</table>\n",
       "</div>"
      ],
      "text/plain": [
       "   order_date     cy_date  year month_name date_yy_mmm\n",
       "0  2017-06-01  2017-06-01  2017       June      17-Jun\n",
       "1  2017-06-02  2017-06-01  2017       June      17-Jun\n",
       "2  2017-06-03  2017-06-01  2017       June      17-Jun\n",
       "3  2017-06-04  2017-06-01  2017       June      17-Jun\n",
       "4  2017-06-05  2017-06-01  2017       June      17-Jun"
      ]
     },
     "execution_count": 68,
     "metadata": {},
     "output_type": "execute_result"
    }
   ],
   "source": [
    "date = date.rename(columns={\"date\": \"order_date\"})\n",
    "date.head()"
   ]
  },
  {
   "cell_type": "code",
   "execution_count": 69,
   "id": "ab5a404f",
   "metadata": {},
   "outputs": [
    {
     "data": {
      "text/plain": [
       "1126"
      ]
     },
     "execution_count": 69,
     "metadata": {},
     "output_type": "execute_result"
    }
   ],
   "source": [
    "date[\"order_date\"].nunique()"
   ]
  },
  {
   "cell_type": "code",
   "execution_count": 70,
   "id": "b16fe36d",
   "metadata": {},
   "outputs": [
    {
     "data": {
      "text/plain": [
       "804"
      ]
     },
     "execution_count": 70,
     "metadata": {},
     "output_type": "execute_result"
    }
   ],
   "source": [
    "transactions3[\"order_date\"].nunique()"
   ]
  },
  {
   "cell_type": "code",
   "execution_count": 71,
   "id": "53ae1905",
   "metadata": {},
   "outputs": [
    {
     "data": {
      "text/plain": [
       "(148672, 17)"
      ]
     },
     "execution_count": 71,
     "metadata": {},
     "output_type": "execute_result"
    }
   ],
   "source": [
    "transactions3.shape"
   ]
  },
  {
   "cell_type": "code",
   "execution_count": 72,
   "id": "a0727e13",
   "metadata": {},
   "outputs": [
    {
     "data": {
      "text/html": [
       "<div>\n",
       "<style scoped>\n",
       "    .dataframe tbody tr th:only-of-type {\n",
       "        vertical-align: middle;\n",
       "    }\n",
       "\n",
       "    .dataframe tbody tr th {\n",
       "        vertical-align: top;\n",
       "    }\n",
       "\n",
       "    .dataframe thead th {\n",
       "        text-align: right;\n",
       "    }\n",
       "</style>\n",
       "<table border=\"1\" class=\"dataframe\">\n",
       "  <thead>\n",
       "    <tr style=\"text-align: right;\">\n",
       "      <th></th>\n",
       "      <th>product_code</th>\n",
       "      <th>customer_code</th>\n",
       "      <th>market_code</th>\n",
       "      <th>order_date</th>\n",
       "      <th>sales_qty</th>\n",
       "      <th>sales_amount</th>\n",
       "      <th>currency</th>\n",
       "      <th>product_price</th>\n",
       "      <th>profit_percentage</th>\n",
       "      <th>original_price</th>\n",
       "      <th>...</th>\n",
       "      <th>total_profit</th>\n",
       "      <th>product_type</th>\n",
       "      <th>custmer_name</th>\n",
       "      <th>customer_type</th>\n",
       "      <th>market_name</th>\n",
       "      <th>zone</th>\n",
       "      <th>cy_date</th>\n",
       "      <th>year</th>\n",
       "      <th>month_name</th>\n",
       "      <th>date_yy_mmm</th>\n",
       "    </tr>\n",
       "  </thead>\n",
       "  <tbody>\n",
       "    <tr>\n",
       "      <th>0</th>\n",
       "      <td>Prod001</td>\n",
       "      <td>Cus001</td>\n",
       "      <td>Mark001</td>\n",
       "      <td>2017-10-10</td>\n",
       "      <td>100</td>\n",
       "      <td>41241.00</td>\n",
       "      <td>INR</td>\n",
       "      <td>412.41</td>\n",
       "      <td>11</td>\n",
       "      <td>367.04</td>\n",
       "      <td>...</td>\n",
       "      <td>4536.51</td>\n",
       "      <td>Own Brand</td>\n",
       "      <td>Surge Stores</td>\n",
       "      <td>Brick &amp; Mortar</td>\n",
       "      <td>Chennai</td>\n",
       "      <td>South</td>\n",
       "      <td>2017-10-01</td>\n",
       "      <td>2017</td>\n",
       "      <td>October</td>\n",
       "      <td>17-Oct</td>\n",
       "    </tr>\n",
       "    <tr>\n",
       "      <th>1</th>\n",
       "      <td>Prod001</td>\n",
       "      <td>Cus001</td>\n",
       "      <td>Mark001</td>\n",
       "      <td>2017-10-10</td>\n",
       "      <td>100</td>\n",
       "      <td>41241.00</td>\n",
       "      <td>INR</td>\n",
       "      <td>412.41</td>\n",
       "      <td>11</td>\n",
       "      <td>367.04</td>\n",
       "      <td>...</td>\n",
       "      <td>4536.51</td>\n",
       "      <td>Own Brand</td>\n",
       "      <td>Surge Stores</td>\n",
       "      <td>Brick &amp; Mortar</td>\n",
       "      <td>Chennai</td>\n",
       "      <td>South</td>\n",
       "      <td>2017-10-01</td>\n",
       "      <td>2017</td>\n",
       "      <td>October</td>\n",
       "      <td>17-Oct</td>\n",
       "    </tr>\n",
       "    <tr>\n",
       "      <th>2</th>\n",
       "      <td>Prod013</td>\n",
       "      <td>Cus001</td>\n",
       "      <td>Mark001</td>\n",
       "      <td>2017-10-10</td>\n",
       "      <td>240</td>\n",
       "      <td>143560.00</td>\n",
       "      <td>INR</td>\n",
       "      <td>598.17</td>\n",
       "      <td>13</td>\n",
       "      <td>520.40</td>\n",
       "      <td>...</td>\n",
       "      <td>18662.80</td>\n",
       "      <td>Own Brand</td>\n",
       "      <td>Surge Stores</td>\n",
       "      <td>Brick &amp; Mortar</td>\n",
       "      <td>Chennai</td>\n",
       "      <td>South</td>\n",
       "      <td>2017-10-01</td>\n",
       "      <td>2017</td>\n",
       "      <td>October</td>\n",
       "      <td>17-Oct</td>\n",
       "    </tr>\n",
       "    <tr>\n",
       "      <th>3</th>\n",
       "      <td>Prod013</td>\n",
       "      <td>Cus001</td>\n",
       "      <td>Mark001</td>\n",
       "      <td>2017-10-10</td>\n",
       "      <td>240</td>\n",
       "      <td>143560.00</td>\n",
       "      <td>INR</td>\n",
       "      <td>598.17</td>\n",
       "      <td>13</td>\n",
       "      <td>520.40</td>\n",
       "      <td>...</td>\n",
       "      <td>18662.80</td>\n",
       "      <td>Own Brand</td>\n",
       "      <td>Surge Stores</td>\n",
       "      <td>Brick &amp; Mortar</td>\n",
       "      <td>Chennai</td>\n",
       "      <td>South</td>\n",
       "      <td>2017-10-01</td>\n",
       "      <td>2017</td>\n",
       "      <td>October</td>\n",
       "      <td>17-Oct</td>\n",
       "    </tr>\n",
       "    <tr>\n",
       "      <th>4</th>\n",
       "      <td>Prod020</td>\n",
       "      <td>Cus001</td>\n",
       "      <td>Mark001</td>\n",
       "      <td>2017-10-10</td>\n",
       "      <td>140</td>\n",
       "      <td>153019.00</td>\n",
       "      <td>INR</td>\n",
       "      <td>1092.99</td>\n",
       "      <td>15</td>\n",
       "      <td>929.04</td>\n",
       "      <td>...</td>\n",
       "      <td>22952.85</td>\n",
       "      <td>Own Brand</td>\n",
       "      <td>Surge Stores</td>\n",
       "      <td>Brick &amp; Mortar</td>\n",
       "      <td>Chennai</td>\n",
       "      <td>South</td>\n",
       "      <td>2017-10-01</td>\n",
       "      <td>2017</td>\n",
       "      <td>October</td>\n",
       "      <td>17-Oct</td>\n",
       "    </tr>\n",
       "  </tbody>\n",
       "</table>\n",
       "<p>5 rows × 21 columns</p>\n",
       "</div>"
      ],
      "text/plain": [
       "  product_code customer_code market_code  order_date  sales_qty  sales_amount  \\\n",
       "0      Prod001        Cus001     Mark001  2017-10-10        100      41241.00   \n",
       "1      Prod001        Cus001     Mark001  2017-10-10        100      41241.00   \n",
       "2      Prod013        Cus001     Mark001  2017-10-10        240     143560.00   \n",
       "3      Prod013        Cus001     Mark001  2017-10-10        240     143560.00   \n",
       "4      Prod020        Cus001     Mark001  2017-10-10        140     153019.00   \n",
       "\n",
       "  currency  product_price  profit_percentage  original_price  ...  \\\n",
       "0      INR         412.41                 11          367.04  ...   \n",
       "1      INR         412.41                 11          367.04  ...   \n",
       "2      INR         598.17                 13          520.40  ...   \n",
       "3      INR         598.17                 13          520.40  ...   \n",
       "4      INR        1092.99                 15          929.04  ...   \n",
       "\n",
       "   total_profit  product_type  custmer_name   customer_type market_name  \\\n",
       "0       4536.51     Own Brand  Surge Stores  Brick & Mortar     Chennai   \n",
       "1       4536.51     Own Brand  Surge Stores  Brick & Mortar     Chennai   \n",
       "2      18662.80     Own Brand  Surge Stores  Brick & Mortar     Chennai   \n",
       "3      18662.80     Own Brand  Surge Stores  Brick & Mortar     Chennai   \n",
       "4      22952.85     Own Brand  Surge Stores  Brick & Mortar     Chennai   \n",
       "\n",
       "    zone     cy_date  year  month_name date_yy_mmm  \n",
       "0  South  2017-10-01  2017     October      17-Oct  \n",
       "1  South  2017-10-01  2017     October      17-Oct  \n",
       "2  South  2017-10-01  2017     October      17-Oct  \n",
       "3  South  2017-10-01  2017     October      17-Oct  \n",
       "4  South  2017-10-01  2017     October      17-Oct  \n",
       "\n",
       "[5 rows x 21 columns]"
      ]
     },
     "execution_count": 72,
     "metadata": {},
     "output_type": "execute_result"
    }
   ],
   "source": [
    "transactions4 = pd.merge(transactions3, date, how=\"inner\", on=\"order_date\")\n",
    "transactions4.head()"
   ]
  },
  {
   "cell_type": "code",
   "execution_count": 73,
   "id": "b77fb27c",
   "metadata": {},
   "outputs": [
    {
     "data": {
      "text/plain": [
       "(148672, 21)"
      ]
     },
     "execution_count": 73,
     "metadata": {},
     "output_type": "execute_result"
    }
   ],
   "source": [
    "transactions4.shape"
   ]
  },
  {
   "cell_type": "markdown",
   "id": "a852b914",
   "metadata": {},
   "source": [
    "### Save the Final Version of File "
   ]
  },
  {
   "cell_type": "code",
   "execution_count": 74,
   "id": "189f4004",
   "metadata": {},
   "outputs": [],
   "source": [
    "transactions4.to_csv(\"Final_Transactions_Data.csv\", index=False)"
   ]
  },
  {
   "cell_type": "code",
   "execution_count": 75,
   "id": "2dc04abf",
   "metadata": {},
   "outputs": [],
   "source": [
    "df = pd.read_csv(\"Final_Transactions_Data.csv\")"
   ]
  },
  {
   "cell_type": "code",
   "execution_count": 76,
   "id": "d3f87b75",
   "metadata": {
    "scrolled": true
   },
   "outputs": [
    {
     "data": {
      "text/html": [
       "<div>\n",
       "<style scoped>\n",
       "    .dataframe tbody tr th:only-of-type {\n",
       "        vertical-align: middle;\n",
       "    }\n",
       "\n",
       "    .dataframe tbody tr th {\n",
       "        vertical-align: top;\n",
       "    }\n",
       "\n",
       "    .dataframe thead th {\n",
       "        text-align: right;\n",
       "    }\n",
       "</style>\n",
       "<table border=\"1\" class=\"dataframe\">\n",
       "  <thead>\n",
       "    <tr style=\"text-align: right;\">\n",
       "      <th></th>\n",
       "      <th>product_code</th>\n",
       "      <th>customer_code</th>\n",
       "      <th>market_code</th>\n",
       "      <th>order_date</th>\n",
       "      <th>sales_qty</th>\n",
       "      <th>sales_amount</th>\n",
       "      <th>currency</th>\n",
       "      <th>product_price</th>\n",
       "      <th>profit_percentage</th>\n",
       "      <th>original_price</th>\n",
       "      <th>...</th>\n",
       "      <th>total_profit</th>\n",
       "      <th>product_type</th>\n",
       "      <th>custmer_name</th>\n",
       "      <th>customer_type</th>\n",
       "      <th>market_name</th>\n",
       "      <th>zone</th>\n",
       "      <th>cy_date</th>\n",
       "      <th>year</th>\n",
       "      <th>month_name</th>\n",
       "      <th>date_yy_mmm</th>\n",
       "    </tr>\n",
       "  </thead>\n",
       "  <tbody>\n",
       "    <tr>\n",
       "      <th>0</th>\n",
       "      <td>Prod001</td>\n",
       "      <td>Cus001</td>\n",
       "      <td>Mark001</td>\n",
       "      <td>2017-10-10</td>\n",
       "      <td>100</td>\n",
       "      <td>41241.00</td>\n",
       "      <td>INR</td>\n",
       "      <td>412.41</td>\n",
       "      <td>11</td>\n",
       "      <td>367.04</td>\n",
       "      <td>...</td>\n",
       "      <td>4536.51</td>\n",
       "      <td>Own Brand</td>\n",
       "      <td>Surge Stores</td>\n",
       "      <td>Brick &amp; Mortar</td>\n",
       "      <td>Chennai</td>\n",
       "      <td>South</td>\n",
       "      <td>2017-10-01</td>\n",
       "      <td>2017</td>\n",
       "      <td>October</td>\n",
       "      <td>17-Oct</td>\n",
       "    </tr>\n",
       "    <tr>\n",
       "      <th>1</th>\n",
       "      <td>Prod001</td>\n",
       "      <td>Cus001</td>\n",
       "      <td>Mark001</td>\n",
       "      <td>2017-10-10</td>\n",
       "      <td>100</td>\n",
       "      <td>41241.00</td>\n",
       "      <td>INR</td>\n",
       "      <td>412.41</td>\n",
       "      <td>11</td>\n",
       "      <td>367.04</td>\n",
       "      <td>...</td>\n",
       "      <td>4536.51</td>\n",
       "      <td>Own Brand</td>\n",
       "      <td>Surge Stores</td>\n",
       "      <td>Brick &amp; Mortar</td>\n",
       "      <td>Chennai</td>\n",
       "      <td>South</td>\n",
       "      <td>2017-10-01</td>\n",
       "      <td>2017</td>\n",
       "      <td>October</td>\n",
       "      <td>17-Oct</td>\n",
       "    </tr>\n",
       "    <tr>\n",
       "      <th>2</th>\n",
       "      <td>Prod013</td>\n",
       "      <td>Cus001</td>\n",
       "      <td>Mark001</td>\n",
       "      <td>2017-10-10</td>\n",
       "      <td>240</td>\n",
       "      <td>143560.00</td>\n",
       "      <td>INR</td>\n",
       "      <td>598.17</td>\n",
       "      <td>13</td>\n",
       "      <td>520.40</td>\n",
       "      <td>...</td>\n",
       "      <td>18662.80</td>\n",
       "      <td>Own Brand</td>\n",
       "      <td>Surge Stores</td>\n",
       "      <td>Brick &amp; Mortar</td>\n",
       "      <td>Chennai</td>\n",
       "      <td>South</td>\n",
       "      <td>2017-10-01</td>\n",
       "      <td>2017</td>\n",
       "      <td>October</td>\n",
       "      <td>17-Oct</td>\n",
       "    </tr>\n",
       "    <tr>\n",
       "      <th>3</th>\n",
       "      <td>Prod013</td>\n",
       "      <td>Cus001</td>\n",
       "      <td>Mark001</td>\n",
       "      <td>2017-10-10</td>\n",
       "      <td>240</td>\n",
       "      <td>143560.00</td>\n",
       "      <td>INR</td>\n",
       "      <td>598.17</td>\n",
       "      <td>13</td>\n",
       "      <td>520.40</td>\n",
       "      <td>...</td>\n",
       "      <td>18662.80</td>\n",
       "      <td>Own Brand</td>\n",
       "      <td>Surge Stores</td>\n",
       "      <td>Brick &amp; Mortar</td>\n",
       "      <td>Chennai</td>\n",
       "      <td>South</td>\n",
       "      <td>2017-10-01</td>\n",
       "      <td>2017</td>\n",
       "      <td>October</td>\n",
       "      <td>17-Oct</td>\n",
       "    </tr>\n",
       "    <tr>\n",
       "      <th>4</th>\n",
       "      <td>Prod020</td>\n",
       "      <td>Cus001</td>\n",
       "      <td>Mark001</td>\n",
       "      <td>2017-10-10</td>\n",
       "      <td>140</td>\n",
       "      <td>153019.00</td>\n",
       "      <td>INR</td>\n",
       "      <td>1092.99</td>\n",
       "      <td>15</td>\n",
       "      <td>929.04</td>\n",
       "      <td>...</td>\n",
       "      <td>22952.85</td>\n",
       "      <td>Own Brand</td>\n",
       "      <td>Surge Stores</td>\n",
       "      <td>Brick &amp; Mortar</td>\n",
       "      <td>Chennai</td>\n",
       "      <td>South</td>\n",
       "      <td>2017-10-01</td>\n",
       "      <td>2017</td>\n",
       "      <td>October</td>\n",
       "      <td>17-Oct</td>\n",
       "    </tr>\n",
       "  </tbody>\n",
       "</table>\n",
       "<p>5 rows × 21 columns</p>\n",
       "</div>"
      ],
      "text/plain": [
       "  product_code customer_code market_code  order_date  sales_qty  sales_amount  \\\n",
       "0      Prod001        Cus001     Mark001  2017-10-10        100      41241.00   \n",
       "1      Prod001        Cus001     Mark001  2017-10-10        100      41241.00   \n",
       "2      Prod013        Cus001     Mark001  2017-10-10        240     143560.00   \n",
       "3      Prod013        Cus001     Mark001  2017-10-10        240     143560.00   \n",
       "4      Prod020        Cus001     Mark001  2017-10-10        140     153019.00   \n",
       "\n",
       "  currency  product_price  profit_percentage  original_price  ...  \\\n",
       "0      INR         412.41                 11          367.04  ...   \n",
       "1      INR         412.41                 11          367.04  ...   \n",
       "2      INR         598.17                 13          520.40  ...   \n",
       "3      INR         598.17                 13          520.40  ...   \n",
       "4      INR        1092.99                 15          929.04  ...   \n",
       "\n",
       "   total_profit  product_type  custmer_name   customer_type market_name  \\\n",
       "0       4536.51     Own Brand  Surge Stores  Brick & Mortar     Chennai   \n",
       "1       4536.51     Own Brand  Surge Stores  Brick & Mortar     Chennai   \n",
       "2      18662.80     Own Brand  Surge Stores  Brick & Mortar     Chennai   \n",
       "3      18662.80     Own Brand  Surge Stores  Brick & Mortar     Chennai   \n",
       "4      22952.85     Own Brand  Surge Stores  Brick & Mortar     Chennai   \n",
       "\n",
       "    zone     cy_date  year  month_name date_yy_mmm  \n",
       "0  South  2017-10-01  2017     October      17-Oct  \n",
       "1  South  2017-10-01  2017     October      17-Oct  \n",
       "2  South  2017-10-01  2017     October      17-Oct  \n",
       "3  South  2017-10-01  2017     October      17-Oct  \n",
       "4  South  2017-10-01  2017     October      17-Oct  \n",
       "\n",
       "[5 rows x 21 columns]"
      ]
     },
     "execution_count": 76,
     "metadata": {},
     "output_type": "execute_result"
    }
   ],
   "source": [
    "df.head()"
   ]
  },
  {
   "cell_type": "code",
   "execution_count": 77,
   "id": "619face1",
   "metadata": {},
   "outputs": [
    {
     "data": {
      "text/plain": [
       "(148672, 21)"
      ]
     },
     "execution_count": 77,
     "metadata": {},
     "output_type": "execute_result"
    }
   ],
   "source": [
    "df.shape"
   ]
  },
  {
   "cell_type": "code",
   "execution_count": 78,
   "id": "1ec2fe5f",
   "metadata": {},
   "outputs": [
    {
     "data": {
      "text/plain": [
       "986676768.0"
      ]
     },
     "execution_count": 78,
     "metadata": {},
     "output_type": "execute_result"
    }
   ],
   "source": [
    "df[\"sales_amount\"].sum()"
   ]
  },
  {
   "cell_type": "code",
   "execution_count": 79,
   "id": "c842b738",
   "metadata": {},
   "outputs": [],
   "source": [
    "transactions4.to_excel(\"Final_Data.xlsx\")"
   ]
  },
  {
   "cell_type": "code",
   "execution_count": null,
   "id": "af4337fa",
   "metadata": {},
   "outputs": [],
   "source": []
  },
  {
   "cell_type": "code",
   "execution_count": null,
   "id": "255882f1",
   "metadata": {},
   "outputs": [],
   "source": []
  }
 ],
 "metadata": {
  "kernelspec": {
   "display_name": "Python 3 (ipykernel)",
   "language": "python",
   "name": "python3"
  },
  "language_info": {
   "codemirror_mode": {
    "name": "ipython",
    "version": 3
   },
   "file_extension": ".py",
   "mimetype": "text/x-python",
   "name": "python",
   "nbconvert_exporter": "python",
   "pygments_lexer": "ipython3",
   "version": "3.10.0"
  }
 },
 "nbformat": 4,
 "nbformat_minor": 5
}
